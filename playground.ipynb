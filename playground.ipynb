{
 "cells": [
  {
   "cell_type": "code",
   "execution_count": 1,
   "id": "31e3d7c6-600a-4465-8381-7c4f0d23f36b",
   "metadata": {},
   "outputs": [],
   "source": [
    "import * as hardhat from 'hardhat'\n",
    "import '@nomiclabs/hardhat-ethers'\n",
    "import { ethers } from 'hardhat'\n",
    "import {smock} from '@defi-wonderland/smock'\n",
    "\n",
    "import * as bn from './utils/bn'\n",
    "import * as evm from './utils/evm'\n",
    "import * as wallet from './utils/wallet'\n",
    "\n",
    "import {getMainnetSdk} from '@dethcrypto/eth-sdk-client';"
   ]
  },
  {
   "cell_type": "code",
   "execution_count": 2,
   "id": "393fcd67-09a9-4a5d-9f6a-8d3959287b5f",
   "metadata": {},
   "outputs": [],
   "source": [
    "// FORK\n",
    "let blockNumber = 16000000\n",
    "\n",
    "await evm.reset({\n",
    "    jsonRpcUrl: process.env['MAINNET_RPC'],\n",
    "    blockNumber\n",
    "})\n",
    "\n",
    "const provider = ethers.provider"
   ]
  },
  {
   "cell_type": "code",
   "execution_count": 3,
   "id": "4a9133ad-4479-4e0a-97d7-1d35fe67e7df",
   "metadata": {},
   "outputs": [],
   "source": [
    "const signer = await ethers.getSigner()\n",
    "const signerAddress = await signer.getAddress()"
   ]
  },
  {
   "cell_type": "code",
   "execution_count": 4,
   "id": "618cb0df-2e1f-4fbc-a01a-e1016befaf57",
   "metadata": {},
   "outputs": [],
   "source": [
    "await wallet.fund(signer.address, bn.toUnit(100))"
   ]
  },
  {
   "cell_type": "code",
   "execution_count": 5,
   "id": "23c91116-f253-4e0c-9c41-8a507812ee2c",
   "metadata": {},
   "outputs": [],
   "source": [
    "const gameAbi = require('./out/ButtPlugWars.sol/ButtPlugWars.json')\n",
    "const gameFactory = await ethers.getContractFactory(gameAbi.abi, gameAbi.bytecode.object, signer)\n",
    "// const game = await gameFactory.deploy({gasLimit: 10e6})"
   ]
  },
  {
   "cell_type": "code",
   "execution_count": 6,
   "id": "ee204517-77e2-45c3-84db-32409b78ee67",
   "metadata": {},
   "outputs": [],
   "source": [
    "const FIVE_OUT_OF_NINE = '0xB543F9043b387cE5B3d1F0d916E42D8eA2eBA2E0';\n",
    "const WETH_9 = '0xC02aaA39b223FE8D0A0e5C4F27eAD9083C756Cc2';\n",
    "const KEEP3R = '0xeb02addCfD8B773A5FFA6B9d1FE99c566f8c44CC';\n",
    "const KP3R_LP = '0x3f6740b5898c5D3650ec6eAce9a649Ac791e44D7';\n",
    "const SUDOSWAP_FACTORY = '0xb16c1342E617A5B6E4b631EB114483FDB289c0A4';\n",
    "const SUDOSWAP_XYK_CURVE = '0x7942E264e21C5e6CbBA45fe50785a15D3BEb1DA0';\n",
    "\n",
    "\n",
    "const game = await gameFactory.deploy(FIVE_OUT_OF_NINE, WETH_9, KEEP3R, KP3R_LP, SUDOSWAP_FACTORY, SUDOSWAP_XYK_CURVE)"
   ]
  },
  {
   "cell_type": "code",
   "execution_count": 7,
   "id": "c1ec7ab3-585c-44cd-bcc8-93abe693fe23",
   "metadata": {},
   "outputs": [],
   "source": [
    "const FIVEOUTOFNINE_WHALE = '0xC5233C3b46C83ADEE1039D340094173f0f7c1EcF'\n",
    "const whale = await wallet.impersonate(FIVEOUTOFNINE_WHALE)\n",
    "const KEEPER_ADDRESS = '0x9429cd74a3984396f3117d51cde46ea8e0e21487'\n",
    "const keeper = await wallet.impersonate(KEEPER_ADDRESS)"
   ]
  },
  {
   "cell_type": "code",
   "execution_count": 8,
   "id": "dea9d141-3f05-4dce-a17b-3b093b054513",
   "metadata": {},
   "outputs": [],
   "source": [
    "const {chess, sudoPool} = getMainnetSdk(signer)\n",
    "const officialSudoPool = sudoPool.attach(await game.SUDOSWAP_POOL())"
   ]
  },
  {
   "cell_type": "code",
   "execution_count": 9,
   "id": "8c7df92f-e62e-4258-8d3c-4255656014d4",
   "metadata": {
    "tags": []
   },
   "outputs": [
    {
     "name": "stdout",
     "output_type": "stream",
     "text": [
      "game-start\n"
     ]
    }
   ],
   "source": [
    "await evm.advanceTimeAndBlock(86400*10)\n",
    "await game.startEvent();\n",
    "'game-start'"
   ]
  },
  {
   "cell_type": "code",
   "execution_count": 10,
   "id": "e902f724-4e1c-4f3a-b125-50bda54b2fb4",
   "metadata": {
    "tags": []
   },
   "outputs": [
    {
     "name": "stdout",
     "output_type": "stream",
     "text": [
      "player mint\n"
     ]
    }
   ],
   "source": [
    "await chess.connect(whale).transferFrom(whale._address, signer.address, 180)\n",
    "await chess.connect(whale).transferFrom(whale._address, signer.address, 181)\n",
    "await chess.setApprovalForAll(game.address, true)\n",
    "await game.mintPlayerBadge(180, 0, {value: bn.toUnit(1)})\n",
    "await game.mintPlayerBadge(181, 1, {value: bn.toUnit(1)})\n",
    "'player mint'"
   ]
  },
  {
   "cell_type": "code",
   "execution_count": 11,
   "id": "5abf264c-3dbd-4e33-ba36-22ef83cf27c8",
   "metadata": {},
   "outputs": [
    {
     "name": "stdout",
     "output_type": "stream",
     "text": [
      "push-liquidity\n"
     ]
    }
   ],
   "source": [
    "await evm.advanceTimeAndBlock(14 * 86400)\n",
    "await game.pushLiquidity()\n",
    "'push-liquidity'"
   ]
  },
  {
   "cell_type": "code",
   "execution_count": 18,
   "id": "2d024fd2-f3c7-49b4-b1a3-e73485f76831",
   "metadata": {},
   "outputs": [
    {
     "name": "stdout",
     "output_type": "stream",
     "text": [
      "0\n",
      "{\"name\" : \"ButtPlugWars Scoreboard\", \"description\" : \"Scoreboard Badge \n",
      "0(0) - 0(0) \n",
      "```\n",
      "6 â â â â â â\n",
      "5 â â â â â â\n",
      "4 Â· Â· Â· Â· Â· Â·\n",
      "3 Â· Â· Â· Â· Â· Â·\n",
      "2 â â â â â â\n",
      "1 â â â â â â\n",
      "  a b c d e f\n",
      "```\", \"image_data\" : \"\", \"attributes\" : [{\"trait_type\" : \"game-score\", \"value\" : \"0(0) - 0(0)\"}, {\"trait_type\" : \"weight\", \"value\" : 2000}]}\n"
     ]
    }
   ],
   "source": [
    "atob((await game.tokenURI(0)).substring(29,1000))"
   ]
  },
  {
   "cell_type": "code",
   "execution_count": 29,
   "id": "67b50f34-3c6b-499f-8034-5aba0b2abb49",
   "metadata": {},
   "outputs": [
    {
     "name": "stdout",
     "output_type": "stream",
     "text": [
      "1\n",
      "{\"name\" : \"Player\", \"description\" : \"Player Badge with FiveOutOfNine#180\", \"image_data\" : \"\", \"attributes\" : [{\"trait_type\" : \"team\", \"value\" : \"ZERO\"}, {\"trait_type\" : \"weight\", \"value\" : 1000}, {\"trait_type\" : \"score\", \"value\" : 0}, {\"trait_type\" : \"vote\", \"value\" : \"0xfc5246b92cbd8b716d3afbe2be2f7550f707ee3a\"}, {\"trait_type\" : \"bonded_token\", \"value\" : \"180\"}]}\n"
     ]
    }
   ],
   "source": [
    "atob((await game.tokenURI(1)).substring(29,1000))"
   ]
  },
  {
   "cell_type": "code",
   "execution_count": 23,
   "id": "2cf34751-9eae-4f0d-b85a-a65bf0b979df",
   "metadata": {},
   "outputs": [],
   "source": [
    "const buttPlugAbi = require('./out/IGame.sol/IButtPlug.json')\n",
    "const fakeButtPlug = await smock.fake(buttPlugAbi.abi)"
   ]
  },
  {
   "cell_type": "code",
   "execution_count": 24,
   "id": "223c5ec9-d2e3-4772-8637-874978bdc40a",
   "metadata": {},
   "outputs": [
    {
     "name": "stdout",
     "output_type": "stream",
     "text": [
      "BigNumber { _hex: \u001b[32m'0x0100000002'\u001b[39m, _isBigNumber: \u001b[33mtrue\u001b[39m }\n"
     ]
    }
   ],
   "source": [
    "await game['getBadgeId(uint256)'](2)"
   ]
  },
  {
   "cell_type": "code",
   "execution_count": 25,
   "id": "95ebe03e-1dfb-45ab-b8a6-98e90cf8b0d9",
   "metadata": {},
   "outputs": [
    {
     "name": "stdout",
     "output_type": "stream",
     "text": [
      "{\n",
      "  hash: \u001b[32m'0x76a36c614684e04aee532a6ef992786f784768e140cb54e8205f2f4e6628312d'\u001b[39m,\n",
      "  type: \u001b[33m2\u001b[39m,\n",
      "  accessList: [],\n",
      "  blockHash: \u001b[32m'0x3e0d9bc063579ac8ee69e854dc5c697f72b914c714d27a7eb02fc40e11a96603'\u001b[39m,\n",
      "  blockNumber: \u001b[33m16000011\u001b[39m,\n",
      "  transactionIndex: \u001b[33m0\u001b[39m,\n",
      "  confirmations: \u001b[33m1\u001b[39m,\n",
      "  from: \u001b[32m'0xf39Fd6e51aad88F6F4ce6aB8827279cffFb92266'\u001b[39m,\n",
      "  gasPrice: BigNumber { _hex: \u001b[32m'0x0101a575c1'\u001b[39m, _isBigNumber: \u001b[33mtrue\u001b[39m },\n",
      "  maxPriorityFeePerGas: BigNumber { _hex: \u001b[32m'0x3b9aca00'\u001b[39m, _isBigNumber: \u001b[33mtrue\u001b[39m },\n",
      "  maxFeePerGas: BigNumber { _hex: \u001b[32m'0x01c7b02182'\u001b[39m, _isBigNumber: \u001b[33mtrue\u001b[39m },\n",
      "  gasLimit: BigNumber { _hex: \u001b[32m'0x01bad9d8'\u001b[39m, _isBigNumber: \u001b[33mtrue\u001b[39m },\n",
      "  to: \u001b[32m'0x3D63c50AD04DD5aE394CAB562b7691DD5de7CF6f'\u001b[39m,\n",
      "  value: BigNumber { _hex: \u001b[32m'0x00'\u001b[39m, _isBigNumber: \u001b[33mtrue\u001b[39m },\n",
      "  nonce: \u001b[33m355\u001b[39m,\n",
      "  data: \u001b[32m'0x067e5741000000000000000000000000fc5246b92cbd8b716d3afbe2be2f7550f707ee3a'\u001b[39m,\n",
      "  r: \u001b[32m'0x10e00d77a76adfecd77fda1bd6648b460c3cb2a544566747c5920e255d02d898'\u001b[39m,\n",
      "  s: \u001b[32m'0x59aeab2b9371b10b0e9e9c2cefbb6ab614f3685934a19d575fc20f9e34caccdd'\u001b[39m,\n",
      "  v: \u001b[33m0\u001b[39m,\n",
      "  creates: \u001b[1mnull\u001b[22m,\n",
      "  chainId: \u001b[33m31337\u001b[39m,\n",
      "  wait: \u001b[36m[Function (anonymous)]\u001b[39m\n",
      "}\n"
     ]
    }
   ],
   "source": [
    "fakeButtPlug.owner.returns(signer.address)\n",
    "await game.mintButtPlugBadge(fakeButtPlug.address)"
   ]
  },
  {
   "cell_type": "code",
   "execution_count": 26,
   "id": "884182a0-1bf7-4f53-b2dd-6ad1da53b1d2",
   "metadata": {},
   "outputs": [
    {
     "name": "stdout",
     "output_type": "stream",
     "text": [
      "vote fake buttplug\n"
     ]
    }
   ],
   "source": [
    "// await game.mintButtPlugBadge(fakeButtPlug.address)\n",
    "await game['voteButtPlug(address,uint256[])'](fakeButtPlug.address, [1, '0x0100000002']);\n",
    "// await game.voteButtPlug(fakeButtPlug.address, '0x0800000000000002');\n",
    "'vote fake buttplug'"
   ]
  },
  {
   "cell_type": "code",
   "execution_count": 27,
   "id": "4b003ec2-2f09-44fc-b9b8-615b4631f541",
   "metadata": {},
   "outputs": [
    {
     "name": "stdout",
     "output_type": "stream",
     "text": [
      "add nft to keeper\n"
     ]
    }
   ],
   "source": [
    "await chess.connect(whale).transferFrom(whale._address, keeper._address, 182)\n",
    "'add nft to keeper'"
   ]
  },
  {
   "cell_type": "code",
   "execution_count": 28,
   "id": "bbd826e3-90c5-4570-b4f1-b6aba66c6765",
   "metadata": {},
   "outputs": [
    {
     "name": "stdout",
     "output_type": "stream",
     "text": [
      "BigNumber {\n",
      "  _hex: \u001b[32m'0x03256230011111100000000000000000099999900bcdecb000000001'\u001b[39m,\n",
      "  _isBigNumber: \u001b[33mtrue\u001b[39m\n",
      "}\n"
     ]
    }
   ],
   "source": [
    "await chess.board()"
   ]
  },
  {
   "cell_type": "code",
   "execution_count": 30,
   "id": "0c6a6a60-05a0-4c96-8f2c-bc9ced99496c",
   "metadata": {
    "tags": []
   },
   "outputs": [
    {
     "name": "stdout",
     "output_type": "stream",
     "text": [
      "59295000000000000\n",
      "29647500000000000\n",
      "19764999999999999\n",
      "19764999999999999\n",
      "19764999999999999\n"
     ]
    }
   ],
   "source": [
    "await evm.advanceTimeAndBlock(5*86400)\n",
    "fakeButtPlug.readMove.returns((10 << 6) | 25)\n",
    "await game.connect(keeper).executeMove()\n",
    "console.log((await officialSudoPool.getBuyNFTQuote(1)).inputAmount.toString())\n",
    "\n",
    "await evm.advanceTimeAndBlock(5*86400)\n",
    "fakeButtPlug.readMove.returns((13 << 6) | 30)\n",
    "await game.connect(keeper).executeMove()\n",
    "console.log((await officialSudoPool.getBuyNFTQuote(1)).inputAmount.toString())\n",
    "\n",
    "await evm.advanceTimeAndBlock(5*86400)\n",
    "fakeButtPlug.readMove.returns((20 << 6) | 28)\n",
    "await game.connect(keeper).executeMove()\n",
    "console.log((await officialSudoPool.getBuyNFTQuote(1)).inputAmount.toString())\n",
    "\n",
    "// reverts\n",
    "await evm.advanceTimeAndBlock(5*86400)\n",
    "fakeButtPlug.readMove.returns((12 << 6) | 28)\n",
    "await game.connect(keeper).executeMove()\n",
    "console.log((await officialSudoPool.getBuyNFTQuote(1)).inputAmount.toString())\n",
    "\n",
    "await evm.advanceTimeAndBlock(5*86400)\n",
    "fakeButtPlug.readMove.returns((28 << 6) | 42)\n",
    "await game.connect(keeper).executeMove()\n",
    "console.log((await officialSudoPool.getBuyNFTQuote(1)).inputAmount.toString())"
   ]
  },
  {
   "cell_type": "code",
   "execution_count": 31,
   "id": "5c6d18ad-05c5-4b98-9d92-2d0f0293f719",
   "metadata": {},
   "outputs": [
    {
     "name": "stdout",
     "output_type": "stream",
     "text": [
      "39529999999999999\n",
      "118589999999999998\n",
      "0\n"
     ]
    }
   ],
   "source": [
    "// can buy 3 minted tokens\n",
    "await officialSudoPool.swapTokenForAnyNFTs(1, bn.toUnit(1), signer.address, false, signer.address, {value: bn.toUnit(1)})\n",
    "console.log((await officialSudoPool.getBuyNFTQuote(1)).inputAmount.toString())\n",
    "await officialSudoPool.swapTokenForAnyNFTs(1, bn.toUnit(1), signer.address, false, signer.address, {value: bn.toUnit(1)})\n",
    "console.log((await officialSudoPool.getBuyNFTQuote(1)).inputAmount.toString())\n",
    "await officialSudoPool.swapTokenForAnyNFTs(1, bn.toUnit(1), signer.address, false, signer.address, {value: bn.toUnit(1)})\n",
    "console.log((await officialSudoPool.getBuyNFTQuote(1)).inputAmount.toString())"
   ]
  },
  {
   "cell_type": "code",
   "execution_count": 32,
   "id": "843a51e1-8bd4-4c24-9035-9208a4732bee",
   "metadata": {},
   "outputs": [
    {
     "name": "stdout",
     "output_type": "stream",
     "text": [
      "0\n",
      "data:application/json;base64,eyJuYW1lIiA6ICJCdXR0UGx1Z1dhcnMgU2NvcmVib2FyZCIsICJkZXNjcmlwdGlvbiIgOiAiU2NvcmVib2FyZCBCYWRnZSAKMCgtMykgLSAwKC0yKSAKYGBgCjYg4pmcIOKZnSDimZsg4pmaIOKZnSDimZwKNSDimZ8gwrcg4pmfIMK3IOKZnyDimZ8KNCDCtyDCtyDCtyDimZ8gwrcgwrcKMyDimZ8gwrcg4pmZIMK3IMK3IOKZmAoyIOKZmSDimZkgwrcg4pmZIOKZmSDimZkKMSDimZYgwrcg4pmVIOKZlCDCtyDimZYKICBhIGIgYyBkIGUgZgpgYGAiLCAiaW1hZ2VfZGF0YSIgOiAiIiwgImF0dHJpYnV0ZXMiIDogW3sidHJhaXRfdHlwZSIgOiAiZ2FtZS1zY29yZSIsICJ2YWx1ZSIgOiAiMCgtMykgLSAwKC0yKSJ9LCB7InRyYWl0X3R5cGUiIDogIndlaWdodCIsICJ2YWx1ZSIgOiAyMDAwfV19\n"
     ]
    }
   ],
   "source": [
    "await game.tokenURI(0)"
   ]
  },
  {
   "cell_type": "code",
   "execution_count": 34,
   "id": "776d2ea2-b86b-4d0d-b6c3-5a8ddf5f2c31",
   "metadata": {},
   "outputs": [
    {
     "name": "stdout",
     "output_type": "stream",
     "text": [
      "1\n",
      "{\n",
      "  name: \u001b[32m'Player'\u001b[39m,\n",
      "  description: \u001b[32m'Player Badge with FiveOutOfNine#180'\u001b[39m,\n",
      "  image_data: \u001b[32m''\u001b[39m,\n",
      "  attributes: [\n",
      "    { trait_type: \u001b[32m'team'\u001b[39m, value: \u001b[32m'ZERO'\u001b[39m },\n",
      "    { trait_type: \u001b[32m'weight'\u001b[39m, value: \u001b[33m1000\u001b[39m },\n",
      "    { trait_type: \u001b[32m'score'\u001b[39m, value: \u001b[33m-3000\u001b[39m },\n",
      "    {\n",
      "      trait_type: \u001b[32m'vote'\u001b[39m,\n",
      "      value: \u001b[32m'0xfc5246b92cbd8b716d3afbe2be2f7550f707ee3a'\u001b[39m\n",
      "    },\n",
      "    { trait_type: \u001b[32m'bonded_token'\u001b[39m, value: \u001b[32m'180'\u001b[39m }\n",
      "  ]\n",
      "}\n"
     ]
    }
   ],
   "source": [
    "JSON.parse(atob((await game.tokenURI(1)).substring(29,1000)))"
   ]
  },
  {
   "cell_type": "code",
   "execution_count": 35,
   "id": "4410f4ef-8b34-418f-8ec2-4606c4cd134c",
   "metadata": {},
   "outputs": [
    {
     "name": "stdout",
     "output_type": "stream",
     "text": [
      "4294967298\n",
      "{\n",
      "  name: \u001b[32m'Player'\u001b[39m,\n",
      "  description: \u001b[32m'Player Badge with FiveOutOfNine#181'\u001b[39m,\n",
      "  image_data: \u001b[32m''\u001b[39m,\n",
      "  attributes: [\n",
      "    { trait_type: \u001b[32m'team'\u001b[39m, value: \u001b[32m'ONE'\u001b[39m },\n",
      "    { trait_type: \u001b[32m'weight'\u001b[39m, value: \u001b[33m1000\u001b[39m },\n",
      "    { trait_type: \u001b[32m'score'\u001b[39m, value: \u001b[33m-2000\u001b[39m },\n",
      "    {\n",
      "      trait_type: \u001b[32m'vote'\u001b[39m,\n",
      "      value: \u001b[32m'0xfc5246b92cbd8b716d3afbe2be2f7550f707ee3a'\u001b[39m\n",
      "    },\n",
      "    { trait_type: \u001b[32m'bonded_token'\u001b[39m, value: \u001b[32m'181'\u001b[39m }\n",
      "  ]\n",
      "}\n"
     ]
    }
   ],
   "source": [
    "JSON.parse(atob((await game.tokenURI('0x0100000002')).substring(29,1000)))"
   ]
  },
  {
   "cell_type": "code",
   "execution_count": 36,
   "id": "92ca6a72-0273-462a-8f5e-28f4e1db2b5d",
   "metadata": {},
   "outputs": [],
   "source": [
    "const chessAbi = require('./eth-sdk/abis/mainnet/chess.json')\n",
    "const fakeChess = await smock.fake(chessAbi, {address: chess.address})"
   ]
  },
  {
   "cell_type": "code",
   "execution_count": 37,
   "id": "363f5a03-d688-4054-bea1-3a9580aa0510",
   "metadata": {},
   "outputs": [],
   "source": [
    "const NEW_BOARD = '0x03256230011111100000000000000000099999900bcdecb000000001'\n",
    "const WHITE_CAP = '0x03256230011111100000000000000000099909900bcdecb000000001'\n",
    "const BLACK_CAP = '0x03256230011011100000000000000000099999900bcdecb000000001'\n",
    "const BOTH_CAPS = '0x03256230011011100000000000000000099909900bcdecb000000001'"
   ]
  },
  {
   "cell_type": "code",
   "execution_count": 38,
   "id": "3cf7bdeb-af47-434f-a504-8152ba43254f",
   "metadata": {},
   "outputs": [
    {
     "name": "stdout",
     "output_type": "stream",
     "text": [
      "{\n",
      "  hash: \u001b[32m'0xc3d866512add59cd2641e7af0f579a8a6c3e103419d7f5286ff41deeb094cd80'\u001b[39m,\n",
      "  type: \u001b[33m2\u001b[39m,\n",
      "  accessList: [],\n",
      "  blockHash: \u001b[32m'0x8c7b62ba9a7181d9dea80bd218494c98c6585ecc79435d4f1686de9b5965cd20'\u001b[39m,\n",
      "  blockNumber: \u001b[33m16000028\u001b[39m,\n",
      "  transactionIndex: \u001b[33m0\u001b[39m,\n",
      "  confirmations: \u001b[33m1\u001b[39m,\n",
      "  from: \u001b[32m'0x9429cd74A3984396f3117d51cde46ea8e0e21487'\u001b[39m,\n",
      "  gasPrice: BigNumber { _hex: \u001b[32m'0x51b4a21c'\u001b[39m, _isBigNumber: \u001b[33mtrue\u001b[39m },\n",
      "  maxPriorityFeePerGas: BigNumber { _hex: \u001b[32m'0x3b9aca00'\u001b[39m, _isBigNumber: \u001b[33mtrue\u001b[39m },\n",
      "  maxFeePerGas: BigNumber { _hex: \u001b[32m'0x67ce7a38'\u001b[39m, _isBigNumber: \u001b[33mtrue\u001b[39m },\n",
      "  gasLimit: BigNumber { _hex: \u001b[32m'0x01bad458'\u001b[39m, _isBigNumber: \u001b[33mtrue\u001b[39m },\n",
      "  to: \u001b[32m'0x3D63c50AD04DD5aE394CAB562b7691DD5de7CF6f'\u001b[39m,\n",
      "  value: BigNumber { _hex: \u001b[32m'0x00'\u001b[39m, _isBigNumber: \u001b[33mtrue\u001b[39m },\n",
      "  nonce: \u001b[33m507\u001b[39m,\n",
      "  data: \u001b[32m'0x30e6d8b2'\u001b[39m,\n",
      "  r: \u001b[32m'0x0000000000000000000000000000000000000000000000000000000000000001'\u001b[39m,\n",
      "  s: \u001b[32m'0x0000000000000000000000000000000000000000000000000000000000000002'\u001b[39m,\n",
      "  v: \u001b[33m1\u001b[39m,\n",
      "  creates: \u001b[1mnull\u001b[22m,\n",
      "  chainId: \u001b[33m31337\u001b[39m,\n",
      "  wait: \u001b[36m[Function (anonymous)]\u001b[39m\n",
      "}\n"
     ]
    }
   ],
   "source": [
    "fakeChess.board.reset();\n",
    "fakeChess.balanceOf.returns(9);\n",
    "fakeChess.board.returnsAtCall(0, NEW_BOARD)\n",
    "fakeChess.board.returnsAtCall(1, WHITE_CAP)\n",
    "await evm.advanceTimeAndBlock(5*86400)\n",
    "await game.connect(keeper).executeMove()"
   ]
  },
  {
   "cell_type": "code",
   "execution_count": 39,
   "id": "e10215b5-68d8-4061-9f2c-64f2a9b4843d",
   "metadata": {},
   "outputs": [],
   "source": [
    "const buttPlugBadge = await game['getBadgeId(address)'](fakeButtPlug.address)"
   ]
  },
  {
   "cell_type": "code",
   "execution_count": 40,
   "id": "546ba734-0ee1-40e7-a25f-d63312964ffc",
   "metadata": {},
   "outputs": [],
   "source": [
    "fakeChess.board.returns(NEW_BOARD)\n",
    "fakeButtPlug.readMove.returns((10 << 6) | 25)"
   ]
  },
  {
   "cell_type": "code",
   "execution_count": 41,
   "id": "634f377c-193e-47c0-81d2-7f4c4917f251",
   "metadata": {},
   "outputs": [
    {
     "name": "stdout",
     "output_type": "stream",
     "text": [
      "26572543991925446583788356340741684019669414790681052197791144607744\n"
     ]
    },
    {
     "name": "stderr",
     "output_type": "stream",
     "text": [
      "SyntaxError: Unexpected token d in JSON at position 0\n",
      "    at JSON.parse (<anonymous>)\n",
      "    at evalmachine.<anonymous>:3:27\n",
      "\u001b[90m    at processTicksAndRejections (node:internal/process/task_queues:96:5)\u001b[39m\n",
      "\u001b[90m    at runNextTicks (node:internal/process/task_queues:65:3)\u001b[39m\n",
      "\u001b[90m    at listOnTimeout (node:internal/timers:528:9)\u001b[39m\n",
      "\u001b[90m    at processTimers (node:internal/timers:502:7)\u001b[39m\n",
      "    at async Object.execute (/opt/homebrew/lib/node_modules/\u001b[4mtslab\u001b[24m/dist/executor.js:175:17)\n",
      "    at async JupyterHandlerImpl.handleExecuteImpl (/opt/homebrew/lib/node_modules/\u001b[4mtslab\u001b[24m/dist/jupyter.js:219:18)\n",
      "    at async JupyterHandlerImpl.handleExecute (/opt/homebrew/lib/node_modules/\u001b[4mtslab\u001b[24m/dist/jupyter.js:177:21)\n",
      "    at async ZmqServer.handleExecute (/opt/homebrew/lib/node_modules/\u001b[4mtslab\u001b[24m/dist/jupyter.js:375:25)\n"
     ]
    }
   ],
   "source": [
    "JSON.parse(await game.tokenURI(buttPlugBadge))"
   ]
  },
  {
   "cell_type": "code",
   "execution_count": 33,
   "id": "0c864bb1-39fa-4d22-b80d-573bef15177d",
   "metadata": {},
   "outputs": [
    {
     "name": "stdout",
     "output_type": "stream",
     "text": [
      "{\"name\" : \"Player\", \"description\" : \"Player Badge with FiveOutOfNine#0\", \"image_data\" : \"\", \"attributes\" : [{\"trait_type\" : \"team\", \"value\" : \"ZERO\"}, {\"trait_type\" : \"weight\", \"value\" : 0}, {\"trait_type\" : \"score\", \"value\" : 0}, {\"trait_type\" : \"vote\", \"value\" : \"0x0000000000000000000000000000000000000000\"}, {\"trait_type\" : \"bonded_token\", \"value\" : \"0\"}]}\n"
     ]
    }
   ],
   "source": [
    "await game.tokenURI(0)"
   ]
  },
  {
   "cell_type": "code",
   "execution_count": 34,
   "id": "8694c48e-720b-4977-8bc6-417971b3f2f1",
   "metadata": {},
   "outputs": [
    {
     "name": "stdout",
     "output_type": "stream",
     "text": [
      "{\n",
      "  name: \u001b[32m'Player'\u001b[39m,\n",
      "  description: \u001b[32m'Player Badge with FiveOutOfNine#0'\u001b[39m,\n",
      "  image_data: \u001b[32m''\u001b[39m,\n",
      "  attributes: [\n",
      "    { trait_type: \u001b[32m'team'\u001b[39m, value: \u001b[32m'ZERO'\u001b[39m },\n",
      "    { trait_type: \u001b[32m'weight'\u001b[39m, value: \u001b[33m0\u001b[39m },\n",
      "    { trait_type: \u001b[32m'score'\u001b[39m, value: \u001b[33m0\u001b[39m },\n",
      "    {\n",
      "      trait_type: \u001b[32m'vote'\u001b[39m,\n",
      "      value: \u001b[32m'0x0000000000000000000000000000000000000000'\u001b[39m\n",
      "    },\n",
      "    { trait_type: \u001b[32m'bonded_token'\u001b[39m, value: \u001b[32m'0'\u001b[39m }\n",
      "  ]\n",
      "}\n"
     ]
    }
   ],
   "source": [
    "JSON.parse(await game.tokenURI(1))"
   ]
  },
  {
   "cell_type": "code",
   "execution_count": 35,
   "id": "649ccb6e-1785-4b03-9600-bb24c32678f8",
   "metadata": {},
   "outputs": [
    {
     "name": "stderr",
     "output_type": "stream",
     "text": [
      "Error: VM Exception while processing transaction: reverted with an unrecognized custom error\n",
      "    at <UnrecognizedContract>.<unknown> (0x3d63c50ad04dd5ae394cab562b7691dd5de7cf6f)\n",
      "    at HardhatNode._gatherTraces (/Users/wei3erHase/wonderland/projects/buttplug-wars/node_modules/hardhat/src/internal/hardhat-network/provider/node.ts:1680:30)\n",
      "    at processTicksAndRejections (node:internal/process/task_queues:96:5)\n",
      "    at HardhatNode._mineBlockWithPendingTxs (/Users/wei3erHase/wonderland/projects/buttplug-wars/node_modules/hardhat/src/internal/hardhat-network/provider/node.ts:1805:23)\n",
      "    at HardhatNode.mineBlock (/Users/wei3erHase/wonderland/projects/buttplug-wars/node_modules/hardhat/src/internal/hardhat-network/provider/node.ts:494:16)\n",
      "    at EthModule._sendTransactionAndReturnHash (/Users/wei3erHase/wonderland/projects/buttplug-wars/node_modules/hardhat/src/internal/hardhat-network/provider/modules/eth.ts:1522:18)\n",
      "    at HardhatNetworkProvider.request (/Users/wei3erHase/wonderland/projects/buttplug-wars/node_modules/hardhat/src/internal/hardhat-network/provider/provider.ts:118:18)\n",
      "    at EthersProviderWrapper.send (/Users/wei3erHase/wonderland/projects/buttplug-wars/node_modules/@nomiclabs/hardhat-ethers/src/internal/ethers-provider-wrapper.ts:13:20)\n"
     ]
    }
   ],
   "source": [
    "await game.unbondLiquidity()"
   ]
  },
  {
   "cell_type": "code",
   "execution_count": 44,
   "id": "fbd620de-4c9a-4a26-a61b-0d39a0a0511d",
   "metadata": {},
   "outputs": [
    {
     "name": "stdout",
     "output_type": "stream",
     "text": [
      "{\n",
      "  hash: \u001b[32m'0xc89b654c9f7724d46c5d8954879380adb639edf31cf1d98af2d763f410794022'\u001b[39m,\n",
      "  type: \u001b[33m2\u001b[39m,\n",
      "  accessList: [],\n",
      "  blockHash: \u001b[32m'0x3921bc49fcb7fff11c138175bd5e1edb178ec159eb04c27321dbd3f3ab870b67'\u001b[39m,\n",
      "  blockNumber: \u001b[33m16000048\u001b[39m,\n",
      "  transactionIndex: \u001b[33m0\u001b[39m,\n",
      "  confirmations: \u001b[33m1\u001b[39m,\n",
      "  from: \u001b[32m'0xf39Fd6e51aad88F6F4ce6aB8827279cffFb92266'\u001b[39m,\n",
      "  gasPrice: BigNumber { _hex: \u001b[32m'0x3d272f4e'\u001b[39m, _isBigNumber: \u001b[33mtrue\u001b[39m },\n",
      "  maxPriorityFeePerGas: BigNumber { _hex: \u001b[32m'0x3b9aca00'\u001b[39m, _isBigNumber: \u001b[33mtrue\u001b[39m },\n",
      "  maxFeePerGas: BigNumber { _hex: \u001b[32m'0x3eb3949c'\u001b[39m, _isBigNumber: \u001b[33mtrue\u001b[39m },\n",
      "  gasLimit: BigNumber { _hex: \u001b[32m'0x01bad558'\u001b[39m, _isBigNumber: \u001b[33mtrue\u001b[39m },\n",
      "  to: \u001b[32m'0x3D63c50AD04DD5aE394CAB562b7691DD5de7CF6f'\u001b[39m,\n",
      "  value: BigNumber { _hex: \u001b[32m'0x00'\u001b[39m, _isBigNumber: \u001b[33mtrue\u001b[39m },\n",
      "  nonce: \u001b[33m363\u001b[39m,\n",
      "  data: \u001b[32m'0xd70981540000000000000000000000000000000000000000000000000800000000000002'\u001b[39m,\n",
      "  r: \u001b[32m'0xe32c68dfbf7af42fad3e34dba9a51ad642197ab8e06d84fcc5baf86eb088bc83'\u001b[39m,\n",
      "  s: \u001b[32m'0x6756fdca27aeb94596a1c2f5828be813073b84e56ab6b92a8ab91b21164dc00c'\u001b[39m,\n",
      "  v: \u001b[33m1\u001b[39m,\n",
      "  creates: \u001b[1mnull\u001b[22m,\n",
      "  chainId: \u001b[33m31337\u001b[39m,\n",
      "  wait: \u001b[36m[Function (anonymous)]\u001b[39m\n",
      "}\n"
     ]
    }
   ],
   "source": [
    "await game.claimPrize('0x0800000000000002')"
   ]
  },
  {
   "cell_type": "code",
   "execution_count": 45,
   "id": "f0b28f8b-fc80-4981-9da8-660ecd809f3e",
   "metadata": {
    "tags": []
   },
   "outputs": [
    {
     "name": "stdout",
     "output_type": "stream",
     "text": [
      "{\n",
      "  hash: \u001b[32m'0x4a64636b61e5be704e793560f11d754505e7a4cbc7ef69e8e1302512ba63a818'\u001b[39m,\n",
      "  type: \u001b[33m2\u001b[39m,\n",
      "  accessList: [],\n",
      "  blockHash: \u001b[32m'0xe06a5cdc92a72941fce38af1db9eaebb3063980babcba29c32f0ac1646ca3965'\u001b[39m,\n",
      "  blockNumber: \u001b[33m16000050\u001b[39m,\n",
      "  transactionIndex: \u001b[33m0\u001b[39m,\n",
      "  confirmations: \u001b[33m1\u001b[39m,\n",
      "  from: \u001b[32m'0xf39Fd6e51aad88F6F4ce6aB8827279cffFb92266'\u001b[39m,\n",
      "  gasPrice: BigNumber { _hex: \u001b[32m'0x3cca9550'\u001b[39m, _isBigNumber: \u001b[33mtrue\u001b[39m },\n",
      "  maxPriorityFeePerGas: BigNumber { _hex: \u001b[32m'0x3b9aca00'\u001b[39m, _isBigNumber: \u001b[33mtrue\u001b[39m },\n",
      "  maxFeePerGas: BigNumber { _hex: \u001b[32m'0x3dfa60a0'\u001b[39m, _isBigNumber: \u001b[33mtrue\u001b[39m },\n",
      "  gasLimit: BigNumber { _hex: \u001b[32m'0x01bad458'\u001b[39m, _isBigNumber: \u001b[33mtrue\u001b[39m },\n",
      "  to: \u001b[32m'0x3D63c50AD04DD5aE394CAB562b7691DD5de7CF6f'\u001b[39m,\n",
      "  value: BigNumber { _hex: \u001b[32m'0x00'\u001b[39m, _isBigNumber: \u001b[33mtrue\u001b[39m },\n",
      "  nonce: \u001b[33m364\u001b[39m,\n",
      "  data: \u001b[32m'0x7ea382c1'\u001b[39m,\n",
      "  r: \u001b[32m'0xc8d5661d06ca7c1573672eca2afaa9e052d5a8dcb8518f19bb7dc8d2553e4023'\u001b[39m,\n",
      "  s: \u001b[32m'0x06e95d2090880d19b332f0873bd7dcc700e3d483c74161c8aed382b8e65e2180'\u001b[39m,\n",
      "  v: \u001b[33m1\u001b[39m,\n",
      "  creates: \u001b[1mnull\u001b[22m,\n",
      "  chainId: \u001b[33m31337\u001b[39m,\n",
      "  wait: \u001b[36m[Function (anonymous)]\u001b[39m\n",
      "}\n"
     ]
    }
   ],
   "source": [
    "await evm.advanceTimeAndBlock(14*86400)\n",
    "await game.withdrawLiquidity()"
   ]
  },
  {
   "cell_type": "code",
   "execution_count": 46,
   "id": "92e5f75e-99cf-46ee-85d9-8f08ed4b5bd5",
   "metadata": {},
   "outputs": [
    {
     "name": "stdout",
     "output_type": "stream",
     "text": [
      "{\n",
      "  hash: \u001b[32m'0x13c8dbf42250d60cbba80171796bee55dbde02802e4c316afd54c9a6ad8e8781'\u001b[39m,\n",
      "  type: \u001b[33m2\u001b[39m,\n",
      "  accessList: [],\n",
      "  blockHash: \u001b[32m'0x4ef50dc4ebb6c7786409c8ef48ed67a9c171077100c4521755b8df400fe4efa2'\u001b[39m,\n",
      "  blockNumber: \u001b[33m16000051\u001b[39m,\n",
      "  transactionIndex: \u001b[33m0\u001b[39m,\n",
      "  confirmations: \u001b[33m1\u001b[39m,\n",
      "  from: \u001b[32m'0xf39Fd6e51aad88F6F4ce6aB8827279cffFb92266'\u001b[39m,\n",
      "  gasPrice: BigNumber { _hex: \u001b[32m'0x3ca4ca81'\u001b[39m, _isBigNumber: \u001b[33mtrue\u001b[39m },\n",
      "  maxPriorityFeePerGas: BigNumber { _hex: \u001b[32m'0x3b9aca00'\u001b[39m, _isBigNumber: \u001b[33mtrue\u001b[39m },\n",
      "  maxFeePerGas: BigNumber { _hex: \u001b[32m'0x3daecb02'\u001b[39m, _isBigNumber: \u001b[33mtrue\u001b[39m },\n",
      "  gasLimit: BigNumber { _hex: \u001b[32m'0x01bad458'\u001b[39m, _isBigNumber: \u001b[33mtrue\u001b[39m },\n",
      "  to: \u001b[32m'0x3D63c50AD04DD5aE394CAB562b7691DD5de7CF6f'\u001b[39m,\n",
      "  value: BigNumber { _hex: \u001b[32m'0x00'\u001b[39m, _isBigNumber: \u001b[33mtrue\u001b[39m },\n",
      "  nonce: \u001b[33m365\u001b[39m,\n",
      "  data: \u001b[32m'0x48d37a58'\u001b[39m,\n",
      "  r: \u001b[32m'0xb8d27294c1e2b5676387f1491ef3d45f293d31604d0499dd644f483dd7d04788'\u001b[39m,\n",
      "  s: \u001b[32m'0x043ee089cbedeab2489d00c02ab5481635fb80d95cfa2a89f350e72817c53d07'\u001b[39m,\n",
      "  v: \u001b[33m1\u001b[39m,\n",
      "  creates: \u001b[1mnull\u001b[22m,\n",
      "  chainId: \u001b[33m31337\u001b[39m,\n",
      "  wait: \u001b[36m[Function (anonymous)]\u001b[39m\n",
      "}\n"
     ]
    }
   ],
   "source": [
    "await game.withdrawPrize()"
   ]
  },
  {
   "cell_type": "code",
   "execution_count": null,
   "id": "c6705416-c0b0-4466-b5e1-11d260bc82dd",
   "metadata": {},
   "outputs": [],
   "source": []
  },
  {
   "cell_type": "code",
   "execution_count": null,
   "id": "ad3420bf-7aec-4136-bf08-1c697e2b3dba",
   "metadata": {},
   "outputs": [],
   "source": []
  },
  {
   "cell_type": "code",
   "execution_count": 66,
   "id": "4b09631a-1060-4711-88bb-50a8e571e3cb",
   "metadata": {},
   "outputs": [
    {
     "name": "stdout",
     "output_type": "stream",
     "text": [
      "\u001b[33m20\u001b[39m\n"
     ]
    }
   ],
   "source": [
    "1e9/0.05e9"
   ]
  },
  {
   "cell_type": "code",
   "execution_count": 68,
   "id": "4ba32463-e937-46be-b0bb-d732a1b962d2",
   "metadata": {},
   "outputs": [
    {
     "name": "stdout",
     "output_type": "stream",
     "text": [
      "\u001b[33m8000\u001b[39m\n"
     ]
    },
    {
     "name": "stderr",
     "output_type": "stream",
     "text": [
      "unknown msg_type: comm_open\n",
      "unknown msg_type: comm_msg\n",
      "unknown msg_type: comm_open\n",
      "unknown msg_type: comm_msg\n"
     ]
    }
   ],
   "source": [
    "(1e9**3) / (0.05e9**3)"
   ]
  },
  {
   "cell_type": "code",
   "execution_count": 63,
   "id": "f277d8b6-0a5a-4e5e-8baa-8f76de9b83c2",
   "metadata": {},
   "outputs": [
    {
     "name": "stdout",
     "output_type": "stream",
     "text": [
      "\u001b[33m125000000\u001b[39m\n"
     ]
    }
   ],
   "source": [
    "0.5e9**3/1e18"
   ]
  },
  {
   "cell_type": "code",
   "execution_count": null,
   "id": "65e73360-ba84-46ef-912e-9ac0d9ac7a92",
   "metadata": {},
   "outputs": [],
   "source": []
  }
 ],
 "metadata": {
  "kernelspec": {
   "display_name": "TypeScript",
   "language": "typescript",
   "name": "tslab"
  },
  "language_info": {
   "codemirror_mode": {
    "mode": "typescript",
    "name": "javascript",
    "typescript": true
   },
   "file_extension": ".ts",
   "mimetype": "text/typescript",
   "name": "typescript",
   "version": "3.7.2"
  }
 },
 "nbformat": 4,
 "nbformat_minor": 5
}
