{
 "cells": [
  {
   "cell_type": "markdown",
   "id": "d0d6c4e5-bc8a-47b3-bde7-8aa560d762e3",
   "metadata": {},
   "source": [
    "# ButtPlug Wars"
   ]
  },
  {
   "cell_type": "markdown",
   "id": "03ab2d1f-905a-4e8e-b2fd-6956e0a85187",
   "metadata": {
    "tags": []
   },
   "source": [
    "## Setup"
   ]
  },
  {
   "cell_type": "code",
   "execution_count": 1,
   "id": "31e3d7c6-600a-4465-8381-7c4f0d23f36b",
   "metadata": {
    "tags": []
   },
   "outputs": [],
   "source": [
    "import * as hardhat from 'hardhat'\n",
    "import '@nomiclabs/hardhat-ethers'\n",
    "import { ethers } from 'hardhat'\n",
    "import { smock } from '@defi-wonderland/smock'\n",
    "\n",
    "import * as bn from './utils/bn'\n",
    "import * as evm from './utils/evm'\n",
    "import * as wallet from './utils/wallet'\n",
    "import * as contracts from './utils/contracts'\n",
    "\n",
    "import {getMainnetSdk} from '@dethcrypto/eth-sdk-client';"
   ]
  },
  {
   "cell_type": "code",
   "execution_count": 2,
   "id": "bd5dbfd3-2a22-4ca6-aabe-3f1e4ce070ae",
   "metadata": {
    "tags": []
   },
   "outputs": [],
   "source": [
    "const FIVE_OUT_OF_NINE = '0xB543F9043b387cE5B3d1F0d916E42D8eA2eBA2E0';\n",
    "const WETH_9 = '0xC02aaA39b223FE8D0A0e5C4F27eAD9083C756Cc2';\n",
    "const KEEP3R = '0xeb02addCfD8B773A5FFA6B9d1FE99c566f8c44CC';\n",
    "const KP3R_LP = '0x3f6740b5898c5D3650ec6eAce9a649Ac791e44D7';\n",
    "const SUDOSWAP_FACTORY = '0xb16c1342E617A5B6E4b631EB114483FDB289c0A4';\n",
    "const SUDOSWAP_XYK_CURVE = '0x7942E264e21C5e6CbBA45fe50785a15D3BEb1DA0';\n",
    "\n",
    "const FIVEOUTOFNINE_WHALE = '0xC5233C3b46C83ADEE1039D340094173f0f7c1EcF'\n",
    "const KEEPER_ADDRESS = '0x9429cd74a3984396f3117d51cde46ea8e0e21487'"
   ]
  },
  {
   "cell_type": "code",
   "execution_count": 3,
   "id": "393fcd67-09a9-4a5d-9f6a-8d3959287b5f",
   "metadata": {
    "tags": []
   },
   "outputs": [],
   "source": [
    "// FORK\n",
    "let blockNumber = 16000000\n",
    "\n",
    "await evm.reset({\n",
    "    jsonRpcUrl: process.env['MAINNET_RPC'],\n",
    "    blockNumber\n",
    "})\n",
    "\n",
    "const provider = ethers.provider"
   ]
  },
  {
   "cell_type": "code",
   "execution_count": 4,
   "id": "66f18443-20be-44a9-acd9-be6d704408fc",
   "metadata": {
    "tags": []
   },
   "outputs": [],
   "source": [
    "// Players\n",
    "const signer = await ethers.getSigner()\n",
    "const whale = await wallet.impersonate(FIVEOUTOFNINE_WHALE)\n",
    "const keeper = await wallet.impersonate(KEEPER_ADDRESS)"
   ]
  },
  {
   "cell_type": "code",
   "execution_count": 5,
   "id": "ee204517-77e2-45c3-84db-32409b78ee67",
   "metadata": {
    "tags": []
   },
   "outputs": [],
   "source": [
    "// Deployment\n",
    "const args = [FIVE_OUT_OF_NINE, WETH_9, KEEP3R, KP3R_LP, SUDOSWAP_FACTORY, SUDOSWAP_XYK_CURVE]\n",
    "const game = await contracts.deploy(signer, './out/ButtPlugWars.sol/ButtPlugWars.json', args)"
   ]
  },
  {
   "cell_type": "code",
   "execution_count": 6,
   "id": "db364b67-6a55-4465-8506-edfabddf86d1",
   "metadata": {
    "tags": []
   },
   "outputs": [],
   "source": [
    "const { chess, sudoPool } = getMainnetSdk(signer)"
   ]
  },
  {
   "cell_type": "code",
   "execution_count": 7,
   "id": "1bdddbf2-d18c-4934-bc71-f1caeff6ff62",
   "metadata": {
    "tags": []
   },
   "outputs": [],
   "source": [
    "// JSON.parse(atob((await chess._tokenURI(100)).substring(29,1e6)))"
   ]
  },
  {
   "cell_type": "markdown",
   "id": "47f9b02e-1c1e-4749-9332-e5cb2a0a88bf",
   "metadata": {
    "tags": []
   },
   "source": [
    "## Playground"
   ]
  },
  {
   "cell_type": "markdown",
   "id": "411a9b9b-7a19-487a-a0bb-d4c442368462",
   "metadata": {},
   "source": [
    "### Event start"
   ]
  },
  {
   "cell_type": "code",
   "execution_count": 8,
   "id": "8c7df92f-e62e-4258-8d3c-4255656014d4",
   "metadata": {
    "tags": []
   },
   "outputs": [],
   "source": [
    "await evm.advanceTimeAndBlock(86400*10)\n",
    "const tx = await game.startEvent();"
   ]
  },
  {
   "cell_type": "markdown",
   "id": "25406728-8ae5-4d58-b1e3-87270fc12a88",
   "metadata": {},
   "source": [
    "### Player Badge minting"
   ]
  },
  {
   "cell_type": "code",
   "execution_count": 9,
   "id": "e902f724-4e1c-4f3a-b125-50bda54b2fb4",
   "metadata": {
    "tags": []
   },
   "outputs": [],
   "source": [
    "// pre-genesis tokens\n",
    "await chess.connect(whale).transferFrom(whale._address, signer.address, 133)\n",
    "await chess.connect(whale).transferFrom(whale._address, signer.address, 134)\n",
    "await chess.connect(whale).transferFrom(whale._address, signer.address, 135)\n",
    "await chess.connect(whale).transferFrom(whale._address, signer.address, 136)\n",
    "await chess.connect(whale).transferFrom(whale._address, signer.address, 137)\n",
    "await chess.connect(whale).transferFrom(whale._address, signer.address, 138)\n",
    "await chess.setApprovalForAll(game.address, true)\n",
    "\n",
    "await game.mintPlayerBadge(133, 0, {value: bn.toUnit(1)})\n",
    "await game.mintPlayerBadge(134, 0, {value: bn.toUnit(0.5)})\n",
    "await game.mintPlayerBadge(135, 0, {value: bn.toUnit(0.25)})\n",
    "await game.mintPlayerBadge(136, 0, {value: bn.toUnit(0.10)})\n",
    "await game.mintPlayerBadge(137, 0, {value: bn.toUnit(0.10)})\n",
    "const tx = await game.mintPlayerBadge(138, 1, {value: bn.toUnit(1)})"
   ]
  },
  {
   "cell_type": "code",
   "execution_count": 10,
   "id": "34fd198f-4b1e-491d-9cdf-863ca0290b28",
   "metadata": {},
   "outputs": [
    {
     "name": "stdout",
     "output_type": "stream",
     "text": [
      "BigNumber { _hex: \u001b[32m'0x05'\u001b[39m, _isBigNumber: \u001b[33mtrue\u001b[39m }\n"
     ]
    }
   ],
   "source": [
    "await game['getBadgeId(uint256)'](5)"
   ]
  },
  {
   "cell_type": "code",
   "execution_count": 11,
   "id": "4ac96ef7-5464-4d0a-b783-d046e7f5bae4",
   "metadata": {},
   "outputs": [
    {
     "name": "stdout",
     "output_type": "stream",
     "text": [
      "BigNumber { _hex: \u001b[32m'0x0100000006'\u001b[39m, _isBigNumber: \u001b[33mtrue\u001b[39m }\n"
     ]
    }
   ],
   "source": [
    "await game['getBadgeId(uint256)'](6)"
   ]
  },
  {
   "cell_type": "markdown",
   "id": "addba122-284a-45d3-8d11-163d9026e262",
   "metadata": {
    "tags": []
   },
   "source": [
    "### ButtPlug Badge minting"
   ]
  },
  {
   "cell_type": "code",
   "execution_count": 12,
   "id": "b8b5e5f6-8ca1-4112-b25a-7fca04a8de14",
   "metadata": {
    "tags": []
   },
   "outputs": [],
   "source": [
    "const buttPlug = await contracts.deploy(signer,'./out/Common.sol/ButtPlugForTest.json',[])\n",
    "\n",
    "const tx = await game.mintButtPlugBadge(buttPlug.address)"
   ]
  },
  {
   "cell_type": "markdown",
   "id": "f735964d-d429-4478-a31b-336a6732f5cf",
   "metadata": {},
   "source": [
    "### Game start"
   ]
  },
  {
   "cell_type": "code",
   "execution_count": 13,
   "id": "5abf264c-3dbd-4e33-ba36-22ef83cf27c8",
   "metadata": {
    "tags": []
   },
   "outputs": [],
   "source": [
    "await evm.advanceTimeAndBlock(14 * 86400)\n",
    "const tx = await game.pushLiquidity()"
   ]
  },
  {
   "cell_type": "markdown",
   "id": "9f14b3c0-f9be-4aef-9413-a91bd5c57412",
   "metadata": {},
   "source": [
    "### Voting"
   ]
  },
  {
   "cell_type": "code",
   "execution_count": 14,
   "id": "7f43a1f8-3068-493c-a478-eeda310772a3",
   "metadata": {
    "tags": []
   },
   "outputs": [
    {
     "name": "stdout",
     "output_type": "stream",
     "text": [
      "gasUsed 101375\n",
      "\u001b[33m101375\u001b[39m\n"
     ]
    }
   ],
   "source": [
    "const tx = await game['voteButtPlug(address,uint256)'](buttPlug.address, 1);\n",
    "// const tx = await game['voteButtPlug(address,uint256[])'](buttPlug.address, [1, 2]);\n",
    "\n",
    "await contracts.logTx(tx)"
   ]
  },
  {
   "cell_type": "markdown",
   "id": "5a1a09e8-0b17-4033-b5a2-a1465db44582",
   "metadata": {},
   "source": [
    "## Gameplay"
   ]
  },
  {
   "cell_type": "code",
   "execution_count": 15,
   "id": "9422d08a-182f-4485-a0ef-d2977fd50e92",
   "metadata": {},
   "outputs": [],
   "source": [
    "const officialSudoPool = sudoPool.attach(await game.SUDOSWAP_POOL())"
   ]
  },
  {
   "cell_type": "code",
   "execution_count": 16,
   "id": "bbd826e3-90c5-4570-b4f1-b6aba66c6765",
   "metadata": {
    "tags": []
   },
   "outputs": [
    {
     "name": "stdout",
     "output_type": "stream",
     "text": [
      "BigNumber {\n",
      "  _hex: \u001b[32m'0x03256230011111100000000000000000099999900bcdecb000000001'\u001b[39m,\n",
      "  _isBigNumber: \u001b[33mtrue\u001b[39m\n",
      "}\n"
     ]
    }
   ],
   "source": [
    "await chess.board()"
   ]
  },
  {
   "cell_type": "markdown",
   "id": "7623d3a9-42cf-4445-a868-4764facc0eae",
   "metadata": {},
   "source": [
    "### E2E environment"
   ]
  },
  {
   "cell_type": "code",
   "execution_count": 17,
   "id": "4b003ec2-2f09-44fc-b9b8-615b4631f541",
   "metadata": {
    "tags": []
   },
   "outputs": [
    {
     "name": "stdout",
     "output_type": "stream",
     "text": [
      "keepers need a 5/9\n"
     ]
    }
   ],
   "source": [
    "await chess.connect(whale).transferFrom(whale._address, keeper._address, 175)\n",
    "'keepers need a 5/9'"
   ]
  },
  {
   "cell_type": "code",
   "execution_count": 18,
   "id": "0816d69b-8965-4ab4-97c7-b7bc510c12b9",
   "metadata": {},
   "outputs": [
    {
     "name": "stdout",
     "output_type": "stream",
     "text": [
      "59295000000000000\n"
     ]
    }
   ],
   "source": [
    "await buttPlug.setDepth(7)\n",
    "await evm.advanceTimeAndBlock(5*86400)\n",
    "const tx = await game.connect(keeper).executeMove()\n",
    "console.log((await officialSudoPool.getBuyNFTQuote(1)).inputAmount.toString())"
   ]
  },
  {
   "cell_type": "code",
   "execution_count": 19,
   "id": "5c6d18ad-05c5-4b98-9d92-2d0f0293f719",
   "metadata": {
    "tags": []
   },
   "outputs": [
    {
     "name": "stdout",
     "output_type": "stream",
     "text": [
      "0\n"
     ]
    }
   ],
   "source": [
    "const tx = await officialSudoPool.swapTokenForAnyNFTs(1, bn.toUnit(1), signer.address, false, signer.address, {value: bn.toUnit(1)})\n",
    "console.log((await officialSudoPool.getBuyNFTQuote(1)).inputAmount.toString())"
   ]
  },
  {
   "cell_type": "markdown",
   "id": "7e56a9ec-9d2e-4182-847b-ef9eb0f391a0",
   "metadata": {},
   "source": [
    "### Post Genesis badges"
   ]
  },
  {
   "cell_type": "code",
   "execution_count": 20,
   "id": "fd6e2f64-8c5f-4b3a-a5c2-6ce8da6f9742",
   "metadata": {},
   "outputs": [
    {
     "name": "stdout",
     "output_type": "stream",
     "text": [
      "{\n",
      "  hash: \u001b[32m'0x288ce6c1e148c10cd03df2a9781923f807a018e5178dcbff686ced6af8864458'\u001b[39m,\n",
      "  type: \u001b[33m2\u001b[39m,\n",
      "  accessList: [],\n",
      "  blockHash: \u001b[32m'0x2f817ecb8ce47014b96175ee4d413b187ee596bfbd6447852e078b2b898ffe3c'\u001b[39m,\n",
      "  blockNumber: \u001b[33m16000027\u001b[39m,\n",
      "  transactionIndex: \u001b[33m0\u001b[39m,\n",
      "  confirmations: \u001b[33m1\u001b[39m,\n",
      "  from: \u001b[32m'0xf39Fd6e51aad88F6F4ce6aB8827279cffFb92266'\u001b[39m,\n",
      "  gasPrice: BigNumber { _hex: \u001b[32m'0x54a4b809'\u001b[39m, _isBigNumber: \u001b[33mtrue\u001b[39m },\n",
      "  maxPriorityFeePerGas: BigNumber { _hex: \u001b[32m'0x3b9aca00'\u001b[39m, _isBigNumber: \u001b[33mtrue\u001b[39m },\n",
      "  maxFeePerGas: BigNumber { _hex: \u001b[32m'0x6daea612'\u001b[39m, _isBigNumber: \u001b[33mtrue\u001b[39m },\n",
      "  gasLimit: BigNumber { _hex: \u001b[32m'0x01bad5d8'\u001b[39m, _isBigNumber: \u001b[33mtrue\u001b[39m },\n",
      "  to: \u001b[32m'0x3D63c50AD04DD5aE394CAB562b7691DD5de7CF6f'\u001b[39m,\n",
      "  value: BigNumber { _hex: \u001b[32m'0x016345785d8a0000'\u001b[39m, _isBigNumber: \u001b[33mtrue\u001b[39m },\n",
      "  nonce: \u001b[33m364\u001b[39m,\n",
      "  data: \u001b[32m'0xfbaedbfa00000000000000000000000000000000000000000000000000000000000000c20000000000000000000000000000000000000000000000000000000000000001'\u001b[39m,\n",
      "  r: \u001b[32m'0x9a473bae36a1fb02d146d071ce1ce4f9072eb772996e2429b0e4d34a3d4ecc78'\u001b[39m,\n",
      "  s: \u001b[32m'0x1331bae56aea84423fb4f014dd8e9149af4cec41dc8eb095a4ff13a7d4a0ebff'\u001b[39m,\n",
      "  v: \u001b[33m0\u001b[39m,\n",
      "  creates: \u001b[1mnull\u001b[22m,\n",
      "  chainId: \u001b[33m31337\u001b[39m,\n",
      "  wait: \u001b[36m[Function (anonymous)]\u001b[39m\n",
      "}\n"
     ]
    }
   ],
   "source": [
    "const receipt = await tx.wait()\n",
    "const postGenesisToken = receipt.events[3].topics[3]\n",
    "\n",
    "await game.mintPlayerBadge(postGenesisToken, 1, {value: bn.toUnit(0.1)})"
   ]
  },
  {
   "cell_type": "code",
   "execution_count": 21,
   "id": "95855920-3ecc-452d-8cb4-53ee1266f9e7",
   "metadata": {},
   "outputs": [
    {
     "name": "stdout",
     "output_type": "stream",
     "text": [
      "BigNumber { _hex: \u001b[32m'0x0100000007'\u001b[39m, _isBigNumber: \u001b[33mtrue\u001b[39m }\n"
     ]
    }
   ],
   "source": [
    "await game['getBadgeId(uint256)'](7)"
   ]
  },
  {
   "cell_type": "markdown",
   "id": "1c7c101f-57f3-4010-ace7-2cb791452ac1",
   "metadata": {
    "tags": []
   },
   "source": [
    "### Mocked environment"
   ]
  },
  {
   "cell_type": "code",
   "execution_count": 22,
   "id": "b3c2e7a8-69d8-45d8-a8b3-138bb02eeb44",
   "metadata": {
    "tags": []
   },
   "outputs": [],
   "source": [
    "const iButtPlug = await contracts.getContractAbi('./out/IGame.sol/IButtPlug.json')\n",
    "const fakeButtPlug = await smock.fake(iButtPlug)"
   ]
  },
  {
   "cell_type": "markdown",
   "id": "4fb44160-42d8-4d9d-92e2-eff3fb6891ea",
   "metadata": {
    "tags": []
   },
   "source": [
    "#### Mock vs FiveOutOfNine"
   ]
  },
  {
   "cell_type": "code",
   "execution_count": 23,
   "id": "893960d4-587b-456f-a5e1-15f27f8bca48",
   "metadata": {},
   "outputs": [],
   "source": [
    "const tx = await game['voteButtPlug(address,uint256[])'](fakeButtPlug.address, [1, 2, 3, 4, 5]);"
   ]
  },
  {
   "cell_type": "code",
   "execution_count": 24,
   "id": "557b3db5-13e0-48e8-8949-2586f69ce309",
   "metadata": {
    "tags": []
   },
   "outputs": [
    {
     "name": "stdout",
     "output_type": "stream",
     "text": [
      "{\n",
      "  hash: \u001b[32m'0x7d134722e962a5bb88e4fdd5e3e001b29a0d84b44bfb49ac1b1284da4bea6424'\u001b[39m,\n",
      "  type: \u001b[33m2\u001b[39m,\n",
      "  accessList: [],\n",
      "  blockHash: \u001b[32m'0xe01ca48411720d90a32210c11b950ffb8ccedc2cc9ee2521b64c194b59a651d2'\u001b[39m,\n",
      "  blockNumber: \u001b[33m16000038\u001b[39m,\n",
      "  transactionIndex: \u001b[33m0\u001b[39m,\n",
      "  confirmations: \u001b[33m1\u001b[39m,\n",
      "  from: \u001b[32m'0x9429cd74A3984396f3117d51cde46ea8e0e21487'\u001b[39m,\n",
      "  gasPrice: BigNumber { _hex: \u001b[32m'0x41999ea9'\u001b[39m, _isBigNumber: \u001b[33mtrue\u001b[39m },\n",
      "  maxPriorityFeePerGas: BigNumber { _hex: \u001b[32m'0x3b9aca00'\u001b[39m, _isBigNumber: \u001b[33mtrue\u001b[39m },\n",
      "  maxFeePerGas: BigNumber { _hex: \u001b[32m'0x47987352'\u001b[39m, _isBigNumber: \u001b[33mtrue\u001b[39m },\n",
      "  gasLimit: BigNumber { _hex: \u001b[32m'0x01bad458'\u001b[39m, _isBigNumber: \u001b[33mtrue\u001b[39m },\n",
      "  to: \u001b[32m'0x3D63c50AD04DD5aE394CAB562b7691DD5de7CF6f'\u001b[39m,\n",
      "  value: BigNumber { _hex: \u001b[32m'0x00'\u001b[39m, _isBigNumber: \u001b[33mtrue\u001b[39m },\n",
      "  nonce: \u001b[33m507\u001b[39m,\n",
      "  data: \u001b[32m'0x30e6d8b2'\u001b[39m,\n",
      "  r: \u001b[32m'0x0000000000000000000000000000000000000000000000000000000000000001'\u001b[39m,\n",
      "  s: \u001b[32m'0x0000000000000000000000000000000000000000000000000000000000000002'\u001b[39m,\n",
      "  v: \u001b[33m1\u001b[39m,\n",
      "  creates: \u001b[1mnull\u001b[22m,\n",
      "  chainId: \u001b[33m31337\u001b[39m,\n",
      "  wait: \u001b[36m[Function (anonymous)]\u001b[39m\n",
      "}\n"
     ]
    }
   ],
   "source": [
    "// Game #6: The Royal Entrance\n",
    "\n",
    "await evm.advanceTimeAndBlock(5*86400)\n",
    "fakeButtPlug.readMove.returns((10 << 6) | 25)\n",
    "await game.connect(keeper).executeMove()\n",
    "\n",
    "await evm.advanceTimeAndBlock(5*86400)\n",
    "fakeButtPlug.readMove.returns((13 << 6) | 30)\n",
    "await game.connect(keeper).executeMove()\n",
    "\n",
    "await evm.advanceTimeAndBlock(5*86400)\n",
    "fakeButtPlug.readMove.returns((20 << 6) | 28)\n",
    "await game.connect(keeper).executeMove()\n",
    "\n",
    "await evm.advanceTimeAndBlock(5*86400)\n",
    "fakeButtPlug.readMove.returns((12 << 6) | 28)\n",
    "await game.connect(keeper).executeMove()\n",
    "\n",
    "await evm.advanceTimeAndBlock(5*86400)\n",
    "fakeButtPlug.readMove.returns((28 << 6) | 42)\n",
    "await game.connect(keeper).executeMove()"
   ]
  },
  {
   "cell_type": "markdown",
   "id": "8f4de8e2-95fe-4b64-aa95-2dba17a6fe30",
   "metadata": {},
   "source": [
    "#### Fake Wars"
   ]
  },
  {
   "cell_type": "code",
   "execution_count": 25,
   "id": "92ca6a72-0273-462a-8f5e-28f4e1db2b5d",
   "metadata": {
    "tags": []
   },
   "outputs": [
    {
     "name": "stdout",
     "output_type": "stream",
     "text": [
      "\u001b[36m[Function: bound returns]\u001b[39m\n"
     ]
    }
   ],
   "source": [
    "const chessAbi = require('./eth-sdk/abis/mainnet/chess.json')\n",
    "const keep3rAbi = await contracts.getContractAbi('./out/IKeep3r.sol/IKeep3r.json')\n",
    "const fakeChess = await smock.fake(chessAbi, {address: chess.address})\n",
    "fakeChess.balanceOf.whenCalledWith(keeper._address).returns(9)\n",
    "fakeChess.balanceOf.whenCalledWith(officialSudoPool.address).returns(100)\n",
    "\n",
    "fakeChess.transferFrom.returns(true)\n",
    "\n",
    "const fakeKeep3r = await smock.fake(keep3rAbi, {address: KEEP3R})\n",
    "fakeKeep3r.isKeeper.returns(true)\n",
    "fakeKeep3r.worked.returns"
   ]
  },
  {
   "cell_type": "code",
   "execution_count": 26,
   "id": "363f5a03-d688-4054-bea1-3a9580aa0510",
   "metadata": {
    "tags": []
   },
   "outputs": [],
   "source": [
    "const NEW_BOARD = '0x03256230011111100000000000000000099999900bcdecb000000001'\n",
    "const WHITE_CAP = '0x03256230011111100000000000000000099909900bcdecb000000001'\n",
    "const BLACK_CAP = '0x03256230011011100000000000000000099999900bcdecb000000001'\n",
    "const BOTH_CAPS = '0x03256230011011100000000000000000099909900bcdecb000000001'"
   ]
  },
  {
   "cell_type": "code",
   "execution_count": 27,
   "id": "9ba0d1a5-8bb8-49ef-9208-8e9296be808d",
   "metadata": {
    "tags": []
   },
   "outputs": [
    {
     "name": "stdout",
     "output_type": "stream",
     "text": [
      "{\n",
      "  hash: \u001b[32m'0xbfa2a39e025be888c0934d2ab214a9665f7c8cbb1f445677e86ed0d27e6b27b9'\u001b[39m,\n",
      "  type: \u001b[33m2\u001b[39m,\n",
      "  accessList: [],\n",
      "  blockHash: \u001b[32m'0x7d41bb96096883997ff27c117aa27857056326930ff912d7563c99738ef89386'\u001b[39m,\n",
      "  blockNumber: \u001b[33m16000040\u001b[39m,\n",
      "  transactionIndex: \u001b[33m0\u001b[39m,\n",
      "  confirmations: \u001b[33m1\u001b[39m,\n",
      "  from: \u001b[32m'0x9429cd74A3984396f3117d51cde46ea8e0e21487'\u001b[39m,\n",
      "  gasPrice: BigNumber { _hex: \u001b[32m'0x403441cc'\u001b[39m, _isBigNumber: \u001b[33mtrue\u001b[39m },\n",
      "  maxPriorityFeePerGas: BigNumber { _hex: \u001b[32m'0x3b9aca00'\u001b[39m, _isBigNumber: \u001b[33mtrue\u001b[39m },\n",
      "  maxFeePerGas: BigNumber { _hex: \u001b[32m'0x44cdb998'\u001b[39m, _isBigNumber: \u001b[33mtrue\u001b[39m },\n",
      "  gasLimit: BigNumber { _hex: \u001b[32m'0x01bad458'\u001b[39m, _isBigNumber: \u001b[33mtrue\u001b[39m },\n",
      "  to: \u001b[32m'0x3D63c50AD04DD5aE394CAB562b7691DD5de7CF6f'\u001b[39m,\n",
      "  value: BigNumber { _hex: \u001b[32m'0x00'\u001b[39m, _isBigNumber: \u001b[33mtrue\u001b[39m },\n",
      "  nonce: \u001b[33m508\u001b[39m,\n",
      "  data: \u001b[32m'0x30e6d8b2'\u001b[39m,\n",
      "  r: \u001b[32m'0x0000000000000000000000000000000000000000000000000000000000000001'\u001b[39m,\n",
      "  s: \u001b[32m'0x0000000000000000000000000000000000000000000000000000000000000002'\u001b[39m,\n",
      "  v: \u001b[33m1\u001b[39m,\n",
      "  creates: \u001b[1mnull\u001b[22m,\n",
      "  chainId: \u001b[33m31337\u001b[39m,\n",
      "  wait: \u001b[36m[Function (anonymous)]\u001b[39m\n",
      "}\n"
     ]
    }
   ],
   "source": [
    "fakeChess.board.reset();\n",
    "fakeChess.board.returnsAtCall(0, NEW_BOARD)\n",
    "fakeChess.board.returnsAtCall(1, BLACK_CAP)\n",
    "await evm.advanceTimeAndBlock(5*86400)\n",
    "await game.connect(keeper).executeMove()"
   ]
  },
  {
   "cell_type": "code",
   "execution_count": 28,
   "id": "5d8e7e60-1940-48b6-9cdc-abe898b28239",
   "metadata": {
    "tags": []
   },
   "outputs": [
    {
     "name": "stdout",
     "output_type": "stream",
     "text": [
      "177885000000000000\n"
     ]
    }
   ],
   "source": [
    "const ZERO = '0x0000000000000000000000000000000000000000'\n",
    "await wallet.fund(fakeChess.address, bn.toUnit(1))\n",
    "\n",
    "await game.connect(fakeChess.wallet).onERC721Received(ZERO, ZERO, 1, ZERO)\n",
    "await officialSudoPool.connect(fakeChess.wallet).onERC721Received(ZERO, ZERO, 1, ZERO)\n",
    "await officialSudoPool.swapTokenForAnyNFTs(1, bn.toUnit(1), signer.address, false, signer.address, {value: bn.toUnit(1)})\n",
    "console.log((await officialSudoPool.getBuyNFTQuote(1)).inputAmount.toString())"
   ]
  },
  {
   "cell_type": "markdown",
   "id": "0bab0324-7816-4d9c-aa86-345ca2b03a0c",
   "metadata": {
    "tags": []
   },
   "source": [
    "## Token URIs"
   ]
  },
  {
   "cell_type": "code",
   "execution_count": 29,
   "id": "2a455751-3bba-4250-a4d4-66773492ad8d",
   "metadata": {
    "tags": []
   },
   "outputs": [],
   "source": [
    "fakeChess.board.returns('0x0335423001101110000006009000c000099b09e00bc9ecb000000001')\n",
    "\n",
    "const scoreboard = await game.tokenURI(0)"
   ]
  },
  {
   "cell_type": "code",
   "execution_count": 30,
   "id": "ed1fc49a-90be-4984-b68f-8538ebcac646",
   "metadata": {},
   "outputs": [
    {
     "name": "stdout",
     "output_type": "stream",
     "text": [
      "{\n",
      "  name: \u001b[32m'ButtPlugWars Scoreboard'\u001b[39m,\n",
      "  description: \u001b[32m'Scoreboard NFT with information about the game state'\u001b[39m,\n",
      "  image_data: \u001b[32m''\u001b[39m,\n",
      "  attributes: [\n",
      "    { trait_type: \u001b[32m'game-score'\u001b[39m, value: \u001b[32m'0(0) - 0(0)'\u001b[39m },\n",
      "    { trait_type: \u001b[32m'weight'\u001b[39m, value: \u001b[33m4155\u001b[39m }\n",
      "  ]\n",
      "}\n"
     ]
    }
   ],
   "source": [
    "JSON.parse(atob(scoreboard.substring(29,1e6)))"
   ]
  },
  {
   "cell_type": "code",
   "execution_count": 31,
   "id": "776d2ea2-b86b-4d0d-b6c3-5a8ddf5f2c31",
   "metadata": {
    "tags": []
   },
   "outputs": [
    {
     "name": "stdout",
     "output_type": "stream",
     "text": [
      "{\n",
      "  name: \u001b[32m'Player'\u001b[39m,\n",
      "  description: \u001b[32m'Player Badge with FiveOutOfNine#133'\u001b[39m,\n",
      "  image_data: \u001b[32m''\u001b[39m,\n",
      "  attributes: [\n",
      "    { trait_type: \u001b[32m'team'\u001b[39m, value: \u001b[32m'ZERO'\u001b[39m },\n",
      "    { trait_type: \u001b[32m'weight'\u001b[39m, value: \u001b[33m1000\u001b[39m },\n",
      "    { trait_type: \u001b[32m'score'\u001b[39m, value: \u001b[33m0\u001b[39m },\n",
      "    { trait_type: \u001b[32m'vote'\u001b[39m, value: \u001b[32m'0x427719c8'\u001b[39m },\n",
      "    { trait_type: \u001b[32m'bonded_token'\u001b[39m, value: \u001b[32m'133'\u001b[39m }\n",
      "  ]\n",
      "}\n"
     ]
    }
   ],
   "source": [
    "JSON.parse(atob((await game.tokenURI(1)).substring(29,1e6)))"
   ]
  },
  {
   "cell_type": "code",
   "execution_count": 32,
   "id": "4b790032-e304-46e0-a0f8-d3c17230f5f4",
   "metadata": {
    "tags": []
   },
   "outputs": [
    {
     "name": "stdout",
     "output_type": "stream",
     "text": [
      "{\n",
      "  hash: \u001b[32m'0x751744f7685f1a06ec9645e243195107b631cade80b44fcdd2b30bb094deeb82'\u001b[39m,\n",
      "  type: \u001b[33m2\u001b[39m,\n",
      "  accessList: [],\n",
      "  blockHash: \u001b[32m'0x8f48f847f30481bbaf6ac2293eedc0dc0758ecaf91afe551e24ae2ea4b6b52c9'\u001b[39m,\n",
      "  blockNumber: \u001b[33m16000044\u001b[39m,\n",
      "  transactionIndex: \u001b[33m0\u001b[39m,\n",
      "  confirmations: \u001b[33m1\u001b[39m,\n",
      "  from: \u001b[32m'0xf39Fd6e51aad88F6F4ce6aB8827279cffFb92266'\u001b[39m,\n",
      "  gasPrice: BigNumber { _hex: \u001b[32m'0x3e4ef25e'\u001b[39m, _isBigNumber: \u001b[33mtrue\u001b[39m },\n",
      "  maxPriorityFeePerGas: BigNumber { _hex: \u001b[32m'0x3b9aca00'\u001b[39m, _isBigNumber: \u001b[33mtrue\u001b[39m },\n",
      "  maxFeePerGas: BigNumber { _hex: \u001b[32m'0x41031abc'\u001b[39m, _isBigNumber: \u001b[33mtrue\u001b[39m },\n",
      "  gasLimit: BigNumber { _hex: \u001b[32m'0x01bad9d8'\u001b[39m, _isBigNumber: \u001b[33mtrue\u001b[39m },\n",
      "  to: \u001b[32m'0x3D63c50AD04DD5aE394CAB562b7691DD5de7CF6f'\u001b[39m,\n",
      "  value: BigNumber { _hex: \u001b[32m'0x00'\u001b[39m, _isBigNumber: \u001b[33mtrue\u001b[39m },\n",
      "  nonce: \u001b[33m367\u001b[39m,\n",
      "  data: \u001b[32m'0x067e5741000000000000000000000000427719c8fb55f3f5dba2bdc22fc183879d50d4f5'\u001b[39m,\n",
      "  r: \u001b[32m'0x57dc4ae12ea9005d70fe0d9f8bccb5651e3fdb5224dfab74acdab582f06632a3'\u001b[39m,\n",
      "  s: \u001b[32m'0x027f87d86d24e50b02c0f1c745fcb7a55123ce75cba8abcf3aabb4f69527a5d5'\u001b[39m,\n",
      "  v: \u001b[33m1\u001b[39m,\n",
      "  creates: \u001b[1mnull\u001b[22m,\n",
      "  chainId: \u001b[33m31337\u001b[39m,\n",
      "  wait: \u001b[36m[Function (anonymous)]\u001b[39m\n",
      "}\n"
     ]
    }
   ],
   "source": [
    "fakeButtPlug.owner.returns(fakeButtPlug.address)\n",
    "await game.mintButtPlugBadge(fakeButtPlug.address)"
   ]
  },
  {
   "cell_type": "code",
   "execution_count": 33,
   "id": "d4cc8eb4-4a5c-4bdb-a8f4-f334b9dc1ddd",
   "metadata": {},
   "outputs": [],
   "source": [
    "const fakeChess = await smock.fake(chessAbi, {address: '0x2ea2736Bfc0146ad20449eaa43245692E77fd2bc'})\n",
    "fakeChess.board.returns(WHITE_CAP)"
   ]
  },
  {
   "cell_type": "code",
   "execution_count": 34,
   "id": "f12f6988-70aa-4f72-85ef-70eba1007df0",
   "metadata": {},
   "outputs": [],
   "source": [
    "fakeButtPlug.readMove.returns(2731)"
   ]
  },
  {
   "cell_type": "code",
   "execution_count": 35,
   "id": "efafd942-3a92-4ac8-b60b-b504b4a88673",
   "metadata": {},
   "outputs": [],
   "source": [
    "const buttPlugBadge = await game['getBadgeId(address)'](buttPlug.address)\n",
    "const buttPlugURI = await game.tokenURI(buttPlugBadge)"
   ]
  },
  {
   "cell_type": "code",
   "execution_count": 37,
   "id": "418409ee-46a6-44c6-bd48-52b485b745c2",
   "metadata": {},
   "outputs": [
    {
     "name": "stdout",
     "output_type": "stream",
     "text": [
      "{\n",
      "  name: \u001b[32m'ButtPlug'\u001b[39m,\n",
      "  description: \u001b[32m'ButtPlug Badge for contract at 0xf66cfdf074d2ffd6a4037be3a669ed04380aef2b'\u001b[39m,\n",
      "  image_data: \u001b[32m''\u001b[39m,\n",
      "  attributes: [\n",
      "    { trait_type: \u001b[32m'score'\u001b[39m, value: \u001b[33m0\u001b[39m },\n",
      "    { trait_type: \u001b[32m'simulated_move'\u001b[39m, value: \u001b[32m'c1 queen to d2'\u001b[39m },\n",
      "    { trait_type: \u001b[32m'simulated_gas'\u001b[39m, value: \u001b[33m4200395\u001b[39m },\n",
      "    { trait_type: \u001b[32m'is_legal_move'\u001b[39m, value: \u001b[33mtrue\u001b[39m }\n",
      "  ]\n",
      "}\n"
     ]
    }
   ],
   "source": [
    "JSON.parse(atob(buttPlugURI.substring(29,1e6)))"
   ]
  },
  {
   "cell_type": "code",
   "execution_count": 40,
   "id": "43fc2a2a-59ca-4713-83d3-98c01415bb7f",
   "metadata": {
    "tags": []
   },
   "outputs": [
    {
     "name": "stdout",
     "output_type": "stream",
     "text": [
      "{\n",
      "  name: \u001b[32m'ButtPlug'\u001b[39m,\n",
      "  description: \u001b[32m'ButtPlug Badge for contract at 0xf66cfdf074d2ffd6a4037be3a669ed04380aef2b'\u001b[39m,\n",
      "  image_data: \u001b[32m''\u001b[39m,\n",
      "  attributes: [\n",
      "    { trait_type: \u001b[32m'score'\u001b[39m, value: \u001b[33m0\u001b[39m },\n",
      "    { trait_type: \u001b[32m'simulated_move'\u001b[39m, value: \u001b[32m'c1 queen to d2'\u001b[39m },\n",
      "    { trait_type: \u001b[32m'simulated_gas'\u001b[39m, value: \u001b[33m4200395\u001b[39m },\n",
      "    { trait_type: \u001b[32m'is_legal_move'\u001b[39m, value: \u001b[33mtrue\u001b[39m }\n",
      "  ]\n",
      "}\n"
     ]
    },
    {
     "name": "stderr",
     "output_type": "stream",
     "text": [
      "unknown msg_type: comm_open\n",
      "unknown msg_type: comm_msg\n",
      "unknown msg_type: comm_open\n",
      "unknown msg_type: comm_msg\n"
     ]
    }
   ],
   "source": [
    "fakeButtPlug.readMove.returns(635)\n",
    "JSON.parse(atob(buttPlugURI.substring(29,1e6)))"
   ]
  },
  {
   "cell_type": "markdown",
   "id": "cd3d0841-6f82-4a07-abd9-9a7b94b1916d",
   "metadata": {
    "tags": []
   },
   "source": [
    "## Prize claiming"
   ]
  },
  {
   "cell_type": "code",
   "execution_count": null,
   "id": "649ccb6e-1785-4b03-9600-bb24c32678f8",
   "metadata": {
    "tags": []
   },
   "outputs": [],
   "source": [
    "const tx = await game.unbondLiquidity()\n",
    "\n",
    "await contracts.logTx(tx)"
   ]
  },
  {
   "cell_type": "code",
   "execution_count": null,
   "id": "fbd620de-4c9a-4a26-a61b-0d39a0a0511d",
   "metadata": {
    "tags": []
   },
   "outputs": [],
   "source": [
    "const tx = await game['claimPrize(uint256)'](5)\n",
    "// const tx = await game['claimPrize(uint256[])']([0,1,2,3,4])\n",
    "\n",
    "await contracts.logTx(tx)"
   ]
  },
  {
   "cell_type": "markdown",
   "id": "bbfa348f-8fe5-4ba9-8fdd-1b40de5fb2ae",
   "metadata": {},
   "source": [
    "### Prize ceremony"
   ]
  },
  {
   "cell_type": "code",
   "execution_count": null,
   "id": "f0b28f8b-fc80-4981-9da8-660ecd809f3e",
   "metadata": {
    "tags": []
   },
   "outputs": [],
   "source": [
    "await evm.advanceTimeAndBlock(14*86400)\n",
    "const tx = await game.withdrawLiquidity()\n",
    "\n",
    "await contracts.logTx(tx)"
   ]
  },
  {
   "cell_type": "code",
   "execution_count": null,
   "id": "92e5f75e-99cf-46ee-85d9-8f08ed4b5bd5",
   "metadata": {
    "tags": []
   },
   "outputs": [],
   "source": [
    "const tx = await game.withdrawPrize()\n",
    "\n",
    "await contracts.logTx(tx)"
   ]
  }
 ],
 "metadata": {
  "kernelspec": {
   "display_name": "TypeScript",
   "language": "typescript",
   "name": "tslab"
  },
  "language_info": {
   "codemirror_mode": {
    "mode": "typescript",
    "name": "javascript",
    "typescript": true
   },
   "file_extension": ".ts",
   "mimetype": "text/typescript",
   "name": "typescript",
   "version": "3.7.2"
  }
 },
 "nbformat": 4,
 "nbformat_minor": 5
}
