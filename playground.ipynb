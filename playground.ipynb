{
 "cells": [
  {
   "cell_type": "markdown",
   "id": "d0d6c4e5-bc8a-47b3-bde7-8aa560d762e3",
   "metadata": {},
   "source": [
    "# ButtPlug Wars"
   ]
  },
  {
   "cell_type": "markdown",
   "id": "03ab2d1f-905a-4e8e-b2fd-6956e0a85187",
   "metadata": {
    "tags": []
   },
   "source": [
    "## Setup"
   ]
  },
  {
   "cell_type": "code",
   "execution_count": null,
   "id": "31e3d7c6-600a-4465-8381-7c4f0d23f36b",
   "metadata": {
    "tags": []
   },
   "outputs": [],
   "source": [
    "import * as hardhat from 'hardhat'\n",
    "import '@nomiclabs/hardhat-ethers'\n",
    "import { ethers } from 'hardhat'\n",
    "import { smock } from '@defi-wonderland/smock'\n",
    "\n",
    "import * as bn from './utils/bn'\n",
    "import * as evm from './utils/evm'\n",
    "import * as wallet from './utils/wallet'\n",
    "import * as contracts from './utils/contracts'\n",
    "\n",
    "import {getMainnetSdk} from '@dethcrypto/eth-sdk-client';"
   ]
  },
  {
   "cell_type": "code",
   "execution_count": null,
   "id": "bd5dbfd3-2a22-4ca6-aabe-3f1e4ce070ae",
   "metadata": {
    "tags": []
   },
   "outputs": [],
   "source": [
    "const FIVE_OUT_OF_NINE = '0xB543F9043b387cE5B3d1F0d916E42D8eA2eBA2E0';\n",
    "const WETH_9 = '0xC02aaA39b223FE8D0A0e5C4F27eAD9083C756Cc2';\n",
    "const KEEP3R = '0xeb02addCfD8B773A5FFA6B9d1FE99c566f8c44CC';\n",
    "const KP3R_LP = '0x3f6740b5898c5D3650ec6eAce9a649Ac791e44D7';\n",
    "const SUDOSWAP_FACTORY = '0xb16c1342E617A5B6E4b631EB114483FDB289c0A4';\n",
    "const SUDOSWAP_XYK_CURVE = '0x7942E264e21C5e6CbBA45fe50785a15D3BEb1DA0';\n",
    "\n",
    "const FIVEOUTOFNINE_WHALE = '0xC5233C3b46C83ADEE1039D340094173f0f7c1EcF'\n",
    "const KEEPER_ADDRESS = '0x9429cd74a3984396f3117d51cde46ea8e0e21487'"
   ]
  },
  {
   "cell_type": "code",
   "execution_count": null,
   "id": "393fcd67-09a9-4a5d-9f6a-8d3959287b5f",
   "metadata": {
    "tags": []
   },
   "outputs": [],
   "source": [
    "// FORK\n",
    "let blockNumber = 16000000\n",
    "\n",
    "await evm.reset({\n",
    "    jsonRpcUrl: process.env['MAINNET_RPC'],\n",
    "    blockNumber\n",
    "})\n",
    "\n",
    "const provider = ethers.provider"
   ]
  },
  {
   "cell_type": "code",
   "execution_count": null,
   "id": "66f18443-20be-44a9-acd9-be6d704408fc",
   "metadata": {
    "tags": []
   },
   "outputs": [],
   "source": [
    "// Players\n",
    "const signer = await ethers.getSigner()\n",
    "const whale = await wallet.impersonate(FIVEOUTOFNINE_WHALE)\n",
    "const keeper = await wallet.impersonate(KEEPER_ADDRESS)"
   ]
  },
  {
   "cell_type": "code",
   "execution_count": null,
   "id": "ee204517-77e2-45c3-84db-32409b78ee67",
   "metadata": {
    "tags": []
   },
   "outputs": [],
   "source": [
    "// Deployment\n",
    "const args = [FIVE_OUT_OF_NINE, WETH_9, KEEP3R, KP3R_LP, SUDOSWAP_FACTORY, SUDOSWAP_XYK_CURVE]\n",
    "const game = await contracts.deploy(signer, './out/ButtPlugWars.sol/ButtPlugWars.json', args)"
   ]
  },
  {
   "cell_type": "code",
   "execution_count": null,
   "id": "db364b67-6a55-4465-8506-edfabddf86d1",
   "metadata": {
    "tags": []
   },
   "outputs": [],
   "source": [
    "const { chess, sudoPool } = getMainnetSdk(signer)"
   ]
  },
  {
   "cell_type": "code",
   "execution_count": null,
   "id": "1bdddbf2-d18c-4934-bc71-f1caeff6ff62",
   "metadata": {
    "tags": []
   },
   "outputs": [],
   "source": [
    "// JSON.parse(atob((await chess._tokenURI(100)).substring(29,1e6)))"
   ]
  },
  {
   "cell_type": "markdown",
   "id": "47f9b02e-1c1e-4749-9332-e5cb2a0a88bf",
   "metadata": {
    "tags": []
   },
   "source": [
    "## Playground"
   ]
  },
  {
   "cell_type": "markdown",
   "id": "411a9b9b-7a19-487a-a0bb-d4c442368462",
   "metadata": {},
   "source": [
    "### Event start"
   ]
  },
  {
   "cell_type": "code",
   "execution_count": null,
   "id": "8c7df92f-e62e-4258-8d3c-4255656014d4",
   "metadata": {
    "tags": []
   },
   "outputs": [],
   "source": [
    "await evm.advanceTimeAndBlock(86400*10)\n",
    "const tx = await game.startEvent();"
   ]
  },
  {
   "cell_type": "markdown",
   "id": "25406728-8ae5-4d58-b1e3-87270fc12a88",
   "metadata": {},
   "source": [
    "### Player Badge minting"
   ]
  },
  {
   "cell_type": "code",
   "execution_count": null,
   "id": "e902f724-4e1c-4f3a-b125-50bda54b2fb4",
   "metadata": {
    "tags": []
   },
   "outputs": [],
   "source": [
    "// pre-genesis tokens\n",
    "await chess.connect(whale).transferFrom(whale._address, signer.address, 133)\n",
    "await chess.connect(whale).transferFrom(whale._address, signer.address, 134)\n",
    "await chess.connect(whale).transferFrom(whale._address, signer.address, 135)\n",
    "await chess.connect(whale).transferFrom(whale._address, signer.address, 136)\n",
    "await chess.connect(whale).transferFrom(whale._address, signer.address, 137)\n",
    "await chess.connect(whale).transferFrom(whale._address, signer.address, 138)\n",
    "await chess.setApprovalForAll(game.address, true)\n",
    "\n",
    "await game.mintPlayerBadge(133, 0, {value: bn.toUnit(1)})\n",
    "await game.mintPlayerBadge(134, 0, {value: bn.toUnit(0.5)})\n",
    "await game.mintPlayerBadge(135, 0, {value: bn.toUnit(0.25)})\n",
    "await game.mintPlayerBadge(136, 0, {value: bn.toUnit(0.10)})\n",
    "await game.mintPlayerBadge(137, 0, {value: bn.toUnit(0.10)})\n",
    "const tx = await game.mintPlayerBadge(138, 1, {value: bn.toUnit(1)})"
   ]
  },
  {
   "cell_type": "code",
   "execution_count": null,
   "id": "34fd198f-4b1e-491d-9cdf-863ca0290b28",
   "metadata": {},
   "outputs": [],
   "source": [
    "await game['getBadgeId(uint256)'](5)"
   ]
  },
  {
   "cell_type": "code",
   "execution_count": null,
   "id": "4ac96ef7-5464-4d0a-b783-d046e7f5bae4",
   "metadata": {},
   "outputs": [],
   "source": [
    "await game['getBadgeId(uint256)'](6)"
   ]
  },
  {
   "cell_type": "markdown",
   "id": "addba122-284a-45d3-8d11-163d9026e262",
   "metadata": {
    "tags": []
   },
   "source": [
    "### ButtPlug Badge minting"
   ]
  },
  {
   "cell_type": "code",
   "execution_count": null,
   "id": "b8b5e5f6-8ca1-4112-b25a-7fca04a8de14",
   "metadata": {
    "tags": []
   },
   "outputs": [],
   "source": [
    "const buttPlug = await contracts.deploy(signer,'./out/Common.sol/ButtPlugForTest.json',[])\n",
    "\n",
    "const tx = await game.mintButtPlugBadge(buttPlug.address)"
   ]
  },
  {
   "cell_type": "markdown",
   "id": "f735964d-d429-4478-a31b-336a6732f5cf",
   "metadata": {},
   "source": [
    "### Game start"
   ]
  },
  {
   "cell_type": "code",
   "execution_count": null,
   "id": "5abf264c-3dbd-4e33-ba36-22ef83cf27c8",
   "metadata": {
    "tags": []
   },
   "outputs": [],
   "source": [
    "await evm.advanceTimeAndBlock(14 * 86400)\n",
    "const tx = await game.pushLiquidity()"
   ]
  },
  {
   "cell_type": "markdown",
   "id": "9f14b3c0-f9be-4aef-9413-a91bd5c57412",
   "metadata": {},
   "source": [
    "### Voting"
   ]
  },
  {
   "cell_type": "code",
   "execution_count": null,
   "id": "7f43a1f8-3068-493c-a478-eeda310772a3",
   "metadata": {
    "tags": []
   },
   "outputs": [],
   "source": [
    "const tx = await game['voteButtPlug(address,uint256)'](buttPlug.address, 1);\n",
    "// const tx = await game['voteButtPlug(address,uint256[])'](buttPlug.address, [1, 2]);\n",
    "\n",
    "await contracts.logTx(tx)"
   ]
  },
  {
   "cell_type": "markdown",
   "id": "5a1a09e8-0b17-4033-b5a2-a1465db44582",
   "metadata": {},
   "source": [
    "## Gameplay"
   ]
  },
  {
   "cell_type": "code",
   "execution_count": null,
   "id": "9422d08a-182f-4485-a0ef-d2977fd50e92",
   "metadata": {},
   "outputs": [],
   "source": [
    "const officialSudoPool = sudoPool.attach(await game.SUDOSWAP_POOL())"
   ]
  },
  {
   "cell_type": "code",
   "execution_count": null,
   "id": "bbd826e3-90c5-4570-b4f1-b6aba66c6765",
   "metadata": {
    "tags": []
   },
   "outputs": [],
   "source": [
    "await chess.board()"
   ]
  },
  {
   "cell_type": "markdown",
   "id": "7623d3a9-42cf-4445-a868-4764facc0eae",
   "metadata": {},
   "source": [
    "### E2E environment"
   ]
  },
  {
   "cell_type": "code",
   "execution_count": null,
   "id": "4b003ec2-2f09-44fc-b9b8-615b4631f541",
   "metadata": {
    "tags": []
   },
   "outputs": [],
   "source": [
    "await chess.connect(whale).transferFrom(whale._address, keeper._address, 175)\n",
    "'keepers need a 5/9'"
   ]
  },
  {
   "cell_type": "code",
   "execution_count": null,
   "id": "0816d69b-8965-4ab4-97c7-b7bc510c12b9",
   "metadata": {},
   "outputs": [],
   "source": [
    "await buttPlug.setDepth(7)\n",
    "await evm.advanceTimeAndBlock(5*86400)\n",
    "const tx = await game.connect(keeper).executeMove()\n",
    "console.log((await officialSudoPool.getBuyNFTQuote(1)).inputAmount.toString())"
   ]
  },
  {
   "cell_type": "code",
   "execution_count": null,
   "id": "5c6d18ad-05c5-4b98-9d92-2d0f0293f719",
   "metadata": {
    "tags": []
   },
   "outputs": [],
   "source": [
    "const tx = await officialSudoPool.swapTokenForAnyNFTs(1, bn.toUnit(1), signer.address, false, signer.address, {value: bn.toUnit(1)})\n",
    "console.log((await officialSudoPool.getBuyNFTQuote(1)).inputAmount.toString())"
   ]
  },
  {
   "cell_type": "markdown",
   "id": "7e56a9ec-9d2e-4182-847b-ef9eb0f391a0",
   "metadata": {},
   "source": [
    "### Post Genesis badges"
   ]
  },
  {
   "cell_type": "code",
   "execution_count": null,
   "id": "fd6e2f64-8c5f-4b3a-a5c2-6ce8da6f9742",
   "metadata": {},
   "outputs": [],
   "source": [
    "const receipt = await tx.wait()\n",
    "const postGenesisToken = receipt.events[3].topics[3]\n",
    "\n",
    "await game.mintPlayerBadge(postGenesisToken, 1, {value: bn.toUnit(0.1)})"
   ]
  },
  {
   "cell_type": "code",
   "execution_count": null,
   "id": "95855920-3ecc-452d-8cb4-53ee1266f9e7",
   "metadata": {},
   "outputs": [],
   "source": [
    "await game['getBadgeId(uint256)'](7)"
   ]
  },
  {
   "cell_type": "markdown",
   "id": "1c7c101f-57f3-4010-ace7-2cb791452ac1",
   "metadata": {
    "jp-MarkdownHeadingCollapsed": true,
    "tags": []
   },
   "source": [
    "### Mocked environment"
   ]
  },
  {
   "cell_type": "code",
   "execution_count": null,
   "id": "b3c2e7a8-69d8-45d8-a8b3-138bb02eeb44",
   "metadata": {
    "tags": []
   },
   "outputs": [],
   "source": [
    "const iButtPlug = await contracts.getContractAbi('./out/IGame.sol/IButtPlug.json')\n",
    "const fakeButtPlug = await smock.fake(iButtPlug)"
   ]
  },
  {
   "cell_type": "markdown",
   "id": "4fb44160-42d8-4d9d-92e2-eff3fb6891ea",
   "metadata": {
    "tags": []
   },
   "source": [
    "#### Mock vs FiveOutOfNine"
   ]
  },
  {
   "cell_type": "code",
   "execution_count": null,
   "id": "893960d4-587b-456f-a5e1-15f27f8bca48",
   "metadata": {},
   "outputs": [],
   "source": [
    "const tx = await game['voteButtPlug(address,uint256[])'](fakeButtPlug.address, [1, 2, 3, 4, 5]);"
   ]
  },
  {
   "cell_type": "code",
   "execution_count": null,
   "id": "557b3db5-13e0-48e8-8949-2586f69ce309",
   "metadata": {
    "tags": []
   },
   "outputs": [],
   "source": [
    "// Game #6: The Royal Entrance\n",
    "\n",
    "await evm.advanceTimeAndBlock(5*86400)\n",
    "fakeButtPlug.readMove.returns((10 << 6) | 25)\n",
    "await game.connect(keeper).executeMove()\n",
    "\n",
    "await evm.advanceTimeAndBlock(5*86400)\n",
    "fakeButtPlug.readMove.returns((13 << 6) | 30)\n",
    "await game.connect(keeper).executeMove()\n",
    "\n",
    "await evm.advanceTimeAndBlock(5*86400)\n",
    "fakeButtPlug.readMove.returns((20 << 6) | 28)\n",
    "await game.connect(keeper).executeMove()\n",
    "\n",
    "await evm.advanceTimeAndBlock(5*86400)\n",
    "fakeButtPlug.readMove.returns((12 << 6) | 28)\n",
    "await game.connect(keeper).executeMove()\n",
    "\n",
    "await evm.advanceTimeAndBlock(5*86400)\n",
    "fakeButtPlug.readMove.returns((28 << 6) | 42)\n",
    "await game.connect(keeper).executeMove()"
   ]
  },
  {
   "cell_type": "markdown",
   "id": "8f4de8e2-95fe-4b64-aa95-2dba17a6fe30",
   "metadata": {},
   "source": [
    "#### Fake Wars"
   ]
  },
  {
   "cell_type": "code",
   "execution_count": null,
   "id": "92ca6a72-0273-462a-8f5e-28f4e1db2b5d",
   "metadata": {
    "tags": []
   },
   "outputs": [],
   "source": [
    "const chessAbi = require('./eth-sdk/abis/mainnet/chess.json')\n",
    "const keep3rAbi = await contracts.getContractAbi('./out/IKeep3r.sol/IKeep3r.json')\n",
    "const fakeChess = await smock.fake(chessAbi, {address: chess.address})\n",
    "fakeChess.balanceOf.whenCalledWith(keeper._address).returns(9)\n",
    "fakeChess.balanceOf.whenCalledWith(officialSudoPool.address).returns(100)\n",
    "\n",
    "fakeChess.transferFrom.returns(true)\n",
    "\n",
    "const fakeKeep3r = await smock.fake(keep3rAbi, {address: KEEP3R})\n",
    "fakeKeep3r.isKeeper.returns(true)\n",
    "fakeKeep3r.worked.returns"
   ]
  },
  {
   "cell_type": "code",
   "execution_count": null,
   "id": "363f5a03-d688-4054-bea1-3a9580aa0510",
   "metadata": {
    "tags": []
   },
   "outputs": [],
   "source": [
    "const NEW_BOARD = '0x03256230011111100000000000000000099999900bcdecb000000001'\n",
    "const WHITE_CAP = '0x03256230011111100000000000000000099909900bcdecb000000001'\n",
    "const BLACK_CAP = '0x03256230011011100000000000000000099999900bcdecb000000001'\n",
    "const BOTH_CAPS = '0x03256230011011100000000000000000099909900bcdecb000000001'"
   ]
  },
  {
   "cell_type": "code",
   "execution_count": null,
   "id": "9ba0d1a5-8bb8-49ef-9208-8e9296be808d",
   "metadata": {
    "tags": []
   },
   "outputs": [],
   "source": [
    "fakeChess.board.reset();\n",
    "fakeChess.board.returnsAtCall(0, NEW_BOARD)\n",
    "fakeChess.board.returnsAtCall(1, BLACK_CAP)\n",
    "await evm.advanceTimeAndBlock(5*86400)\n",
    "await game.connect(keeper).executeMove()"
   ]
  },
  {
   "cell_type": "code",
   "execution_count": null,
   "id": "5d8e7e60-1940-48b6-9cdc-abe898b28239",
   "metadata": {
    "tags": []
   },
   "outputs": [],
   "source": [
    "const ZERO = '0x0000000000000000000000000000000000000000'\n",
    "await wallet.fund(fakeChess.address, bn.toUnit(1))\n",
    "\n",
    "await game.connect(fakeChess.wallet).onERC721Received(ZERO, ZERO, 1, ZERO)\n",
    "await officialSudoPool.connect(fakeChess.wallet).onERC721Received(ZERO, ZERO, 1, ZERO)\n",
    "await officialSudoPool.swapTokenForAnyNFTs(1, bn.toUnit(1), signer.address, false, signer.address, {value: bn.toUnit(1)})\n",
    "console.log((await officialSudoPool.getBuyNFTQuote(1)).inputAmount.toString())"
   ]
  },
  {
   "cell_type": "markdown",
   "id": "0bab0324-7816-4d9c-aa86-345ca2b03a0c",
   "metadata": {
    "tags": []
   },
   "source": [
    "## Token URIs"
   ]
  },
  {
   "cell_type": "code",
   "execution_count": null,
   "id": "2a455751-3bba-4250-a4d4-66773492ad8d",
   "metadata": {
    "tags": []
   },
   "outputs": [],
   "source": [
    "fakeChess.board.returns('0x0335423001101110000006009000c000099b09e00bc9ecb000000001')\n",
    "\n",
    "const scoreboard = await game.tokenURI(0)"
   ]
  },
  {
   "cell_type": "code",
   "execution_count": null,
   "id": "ed1fc49a-90be-4984-b68f-8538ebcac646",
   "metadata": {},
   "outputs": [],
   "source": [
    "JSON.parse(JSON.stringify(scoreboard))"
   ]
  },
  {
   "cell_type": "code",
   "execution_count": null,
   "id": "776d2ea2-b86b-4d0d-b6c3-5a8ddf5f2c31",
   "metadata": {
    "tags": []
   },
   "outputs": [],
   "source": [
    "JSON.parse(JSON.stringify(await game.tokenURI(1)))"
   ]
  },
  {
   "cell_type": "code",
   "execution_count": null,
   "id": "4b790032-e304-46e0-a0f8-d3c17230f5f4",
   "metadata": {
    "tags": []
   },
   "outputs": [],
   "source": [
    "fakeButtPlug.owner.returns(fakeButtPlug.address)\n",
    "await game.mintButtPlugBadge(fakeButtPlug.address)"
   ]
  },
  {
   "cell_type": "code",
   "execution_count": null,
   "id": "43fc2a2a-59ca-4713-83d3-98c01415bb7f",
   "metadata": {
    "tags": []
   },
   "outputs": [],
   "source": [
    "const buttPlugBadge = await game['getBadgeId(address)'](fakeButtPlug.address)\n",
    "fakeButtPlug.readMove.returns(2731)\n",
    "JSON.parse(await game.tokenURI(buttPlugBadge))"
   ]
  },
  {
   "cell_type": "markdown",
   "id": "cd3d0841-6f82-4a07-abd9-9a7b94b1916d",
   "metadata": {
    "tags": []
   },
   "source": [
    "## Prize claiming"
   ]
  },
  {
   "cell_type": "code",
   "execution_count": null,
   "id": "649ccb6e-1785-4b03-9600-bb24c32678f8",
   "metadata": {
    "tags": []
   },
   "outputs": [],
   "source": [
    "const tx = await game.unbondLiquidity()\n",
    "\n",
    "await contracts.logTx(tx)"
   ]
  },
  {
   "cell_type": "code",
   "execution_count": null,
   "id": "fbd620de-4c9a-4a26-a61b-0d39a0a0511d",
   "metadata": {
    "tags": []
   },
   "outputs": [],
   "source": [
    "const tx = await game['claimPrize(uint256)'](5)\n",
    "// const tx = await game['claimPrize(uint256[])']([0,1,2,3,4])\n",
    "\n",
    "await contracts.logTx(tx)"
   ]
  },
  {
   "cell_type": "markdown",
   "id": "bbfa348f-8fe5-4ba9-8fdd-1b40de5fb2ae",
   "metadata": {},
   "source": [
    "### Prize ceremony"
   ]
  },
  {
   "cell_type": "code",
   "execution_count": null,
   "id": "f0b28f8b-fc80-4981-9da8-660ecd809f3e",
   "metadata": {
    "tags": []
   },
   "outputs": [],
   "source": [
    "await evm.advanceTimeAndBlock(14*86400)\n",
    "const tx = await game.withdrawLiquidity()\n",
    "\n",
    "await contracts.logTx(tx)"
   ]
  },
  {
   "cell_type": "code",
   "execution_count": null,
   "id": "92e5f75e-99cf-46ee-85d9-8f08ed4b5bd5",
   "metadata": {
    "tags": []
   },
   "outputs": [],
   "source": [
    "const tx = await game.withdrawPrize()\n",
    "\n",
    "await contracts.logTx(tx)"
   ]
  }
 ],
 "metadata": {
  "kernelspec": {
   "display_name": "TypeScript",
   "language": "typescript",
   "name": "tslab"
  },
  "language_info": {
   "codemirror_mode": {
    "mode": "typescript",
    "name": "javascript",
    "typescript": true
   },
   "file_extension": ".ts",
   "mimetype": "text/typescript",
   "name": "typescript",
   "version": "3.7.2"
  }
 },
 "nbformat": 4,
 "nbformat_minor": 5
}
