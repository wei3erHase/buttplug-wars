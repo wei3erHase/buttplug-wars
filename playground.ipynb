{
 "cells": [
  {
   "cell_type": "code",
   "execution_count": 1,
   "id": "31e3d7c6-600a-4465-8381-7c4f0d23f36b",
   "metadata": {},
   "outputs": [],
   "source": [
    "import * as hardhat from 'hardhat'\n",
    "import '@nomiclabs/hardhat-ethers'\n",
    "import { ethers } from 'hardhat'\n",
    "import {smock} from '@defi-wonderland/smock'\n",
    "\n",
    "import * as bn from './utils/bn'\n",
    "import * as evm from './utils/evm'\n",
    "import * as wallet from './utils/wallet'"
   ]
  },
  {
   "cell_type": "code",
   "execution_count": 2,
   "id": "393fcd67-09a9-4a5d-9f6a-8d3959287b5f",
   "metadata": {},
   "outputs": [],
   "source": [
    "let blockNumber = 16000000\n",
    "\n",
    "await evm.reset({\n",
    "    jsonRpcUrl: process.env['MAINNET_RPC'],\n",
    "    blockNumber\n",
    "})\n",
    "\n",
    "const provider = ethers.provider"
   ]
  },
  {
   "cell_type": "code",
   "execution_count": 3,
   "id": "4a9133ad-4479-4e0a-97d7-1d35fe67e7df",
   "metadata": {},
   "outputs": [],
   "source": [
    "const signer = await ethers.getSigner()\n",
    "const signerAddress = await signer.getAddress()"
   ]
  },
  {
   "cell_type": "code",
   "execution_count": 5,
   "id": "618cb0df-2e1f-4fbc-a01a-e1016befaf57",
   "metadata": {},
   "outputs": [],
   "source": [
    "await wallet.fund(signer.address, bn.toUnit(1))"
   ]
  },
  {
   "cell_type": "code",
   "execution_count": 6,
   "id": "23c91116-f253-4e0c-9c41-8a507812ee2c",
   "metadata": {},
   "outputs": [],
   "source": [
    "const gameAbi = require('./out/ButtPlugWars.sol/ButtPlugWars.json')\n",
    "const gameFactory = await ethers.getContractFactory(gameAbi.abi, gameAbi.bytecode.object, signer)\n",
    "const game = await gameFactory.deploy({gasLimit: 10e6})"
   ]
  },
  {
   "cell_type": "code",
   "execution_count": 7,
   "id": "7090aa7a-bd07-4ecd-bd90-dd313762d4cf",
   "metadata": {},
   "outputs": [
    {
     "name": "stdout",
     "output_type": "stream",
     "text": [
      "0x3D63c50AD04DD5aE394CAB562b7691DD5de7CF6f\n"
     ]
    }
   ],
   "source": [
    "game.address"
   ]
  },
  {
   "cell_type": "code",
   "execution_count": 8,
   "id": "d2adcc0c-fb97-4a35-9ab9-9b2f57f5e977",
   "metadata": {},
   "outputs": [
    {
     "name": "stdout",
     "output_type": "stream",
     "text": [
      "{\"name\" : \"Scoreboard\", \"description\" : \"ButtPlug Wars scoreboard token\", \"image_data\" : \"\"}\n"
     ]
    }
   ],
   "source": [
    "await game.tokenURI(0)"
   ]
  },
  {
   "cell_type": "code",
   "execution_count": null,
   "id": "67b50f34-3c6b-499f-8034-5aba0b2abb49",
   "metadata": {},
   "outputs": [],
   "source": []
  },
  {
   "cell_type": "code",
   "execution_count": 9,
   "id": "92ca6a72-0273-462a-8f5e-28f4e1db2b5d",
   "metadata": {},
   "outputs": [],
   "source": [
    "const chessAbi = require('./out/Game.sol/IChess.json')\n",
    "\n",
    "const fakeChess = await smock.fake(chessAbi.abi)"
   ]
  },
  {
   "cell_type": "code",
   "execution_count": 11,
   "id": "25c6708f-a2c1-4cca-bb30-7ab653e333e3",
   "metadata": {},
   "outputs": [],
   "source": [
    "fakeChess.board.returns('0x1234')"
   ]
  },
  {
   "cell_type": "code",
   "execution_count": 12,
   "id": "91f33c10-c653-45e2-ab45-2791842c34b1",
   "metadata": {},
   "outputs": [
    {
     "name": "stdout",
     "output_type": "stream",
     "text": [
      "BigNumber { _hex: \u001b[32m'0x1234'\u001b[39m, _isBigNumber: \u001b[33mtrue\u001b[39m }\n"
     ]
    }
   ],
   "source": [
    "await fakeChess.board()"
   ]
  },
  {
   "cell_type": "code",
   "execution_count": 8,
   "id": "61c66d14-b1ff-42a0-97ed-36dccfa5a5f3",
   "metadata": {},
   "outputs": [],
   "source": []
  },
  {
   "cell_type": "markdown",
   "id": "17da296c-b0ff-42ed-a864-f5e14f774189",
   "metadata": {},
   "source": [
    "# Jeison Testing"
   ]
  },
  {
   "cell_type": "code",
   "execution_count": 18,
   "id": "a70ef081-3a63-4849-84f2-a4b38134c487",
   "metadata": {},
   "outputs": [],
   "source": [
    "const jeisonAbi = require('./out/Jeison.sol/Jeison.json')"
   ]
  },
  {
   "cell_type": "code",
   "execution_count": null,
   "id": "8c628d0c-ce3e-4c96-873c-65044c4c9085",
   "metadata": {},
   "outputs": [],
   "source": [
    "const jsonLibFactory = await ethers.getContractFactory(jeisonAbi.abi, jeisonAbi.bytecode.object, signer)\n",
    "const jsonLib = await jsonLibFactory.deploy()"
   ]
  }
 ],
 "metadata": {
  "kernelspec": {
   "display_name": "TypeScript",
   "language": "typescript",
   "name": "tslab"
  },
  "language_info": {
   "codemirror_mode": {
    "mode": "typescript",
    "name": "javascript",
    "typescript": true
   },
   "file_extension": ".ts",
   "mimetype": "text/typescript",
   "name": "typescript",
   "version": "3.7.2"
  }
 },
 "nbformat": 4,
 "nbformat_minor": 5
}
