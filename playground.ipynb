{
 "cells": [
  {
   "cell_type": "code",
   "execution_count": 1,
   "id": "31e3d7c6-600a-4465-8381-7c4f0d23f36b",
   "metadata": {},
   "outputs": [],
   "source": [
    "import * as hardhat from 'hardhat'\n",
    "import '@nomiclabs/hardhat-ethers'\n",
    "import { ethers } from 'hardhat'\n",
    "import {smock} from '@defi-wonderland/smock'\n",
    "\n",
    "import * as bn from './utils/bn'\n",
    "import * as evm from './utils/evm'\n",
    "import * as wallet from './utils/wallet'\n",
    "\n",
    "import {getMainnetSdk} from '@dethcrypto/eth-sdk-client';"
   ]
  },
  {
   "cell_type": "code",
   "execution_count": 2,
   "id": "393fcd67-09a9-4a5d-9f6a-8d3959287b5f",
   "metadata": {},
   "outputs": [],
   "source": [
    "// FORK\n",
    "let blockNumber = 16000000\n",
    "\n",
    "await evm.reset({\n",
    "    jsonRpcUrl: process.env['MAINNET_RPC'],\n",
    "    blockNumber\n",
    "})\n",
    "\n",
    "const provider = ethers.provider"
   ]
  },
  {
   "cell_type": "code",
   "execution_count": 3,
   "id": "4a9133ad-4479-4e0a-97d7-1d35fe67e7df",
   "metadata": {},
   "outputs": [],
   "source": [
    "const signer = await ethers.getSigner()\n",
    "const signerAddress = await signer.getAddress()"
   ]
  },
  {
   "cell_type": "code",
   "execution_count": 4,
   "id": "618cb0df-2e1f-4fbc-a01a-e1016befaf57",
   "metadata": {},
   "outputs": [],
   "source": [
    "await wallet.fund(signer.address, bn.toUnit(100))"
   ]
  },
  {
   "cell_type": "code",
   "execution_count": 5,
   "id": "23c91116-f253-4e0c-9c41-8a507812ee2c",
   "metadata": {},
   "outputs": [],
   "source": [
    "const gameAbi = require('./out/ButtPlugWars.sol/ButtPlugWars.json')\n",
    "const gameFactory = await ethers.getContractFactory(gameAbi.abi, gameAbi.bytecode.object, signer)\n",
    "const game = await gameFactory.deploy({gasLimit: 10e6})"
   ]
  },
  {
   "cell_type": "code",
   "execution_count": 6,
   "id": "c1ec7ab3-585c-44cd-bcc8-93abe693fe23",
   "metadata": {},
   "outputs": [],
   "source": [
    "const FIVEOUTOFNINE_WHALE = '0xC5233C3b46C83ADEE1039D340094173f0f7c1EcF'\n",
    "const whale = await wallet.impersonate(FIVEOUTOFNINE_WHALE)\n",
    "const KEEPER_ADDRESS = '0x9429cd74a3984396f3117d51cde46ea8e0e21487'\n",
    "const keeper = await wallet.impersonate(KEEPER_ADDRESS)"
   ]
  },
  {
   "cell_type": "code",
   "execution_count": 7,
   "id": "dea9d141-3f05-4dce-a17b-3b093b054513",
   "metadata": {},
   "outputs": [],
   "source": [
    "const {chess, sudoPool} = getMainnetSdk(signer)\n",
    "const officialSudoPool = sudoPool.attach(await game.SUDOSWAP_POOL())"
   ]
  },
  {
   "cell_type": "code",
   "execution_count": 8,
   "id": "8c7df92f-e62e-4258-8d3c-4255656014d4",
   "metadata": {
    "tags": []
   },
   "outputs": [
    {
     "name": "stdout",
     "output_type": "stream",
     "text": [
      "game-start\n"
     ]
    }
   ],
   "source": [
    "await evm.advanceTimeAndBlock(86400*10)\n",
    "await game.startEvent();\n",
    "'game-start'"
   ]
  },
  {
   "cell_type": "code",
   "execution_count": 9,
   "id": "e902f724-4e1c-4f3a-b125-50bda54b2fb4",
   "metadata": {
    "tags": []
   },
   "outputs": [
    {
     "name": "stdout",
     "output_type": "stream",
     "text": [
      "player mint\n"
     ]
    }
   ],
   "source": [
    "await chess.connect(whale).transferFrom(whale._address, signer.address, 180)\n",
    "await chess.connect(whale).transferFrom(whale._address, signer.address, 181)\n",
    "await chess.setApprovalForAll(game.address, true)\n",
    "await game.mintPlayerBadge(180, 0, {value: bn.toUnit(1)})\n",
    "await game.mintPlayerBadge(181, 1, {value: bn.toUnit(1)})\n",
    "'player mint'"
   ]
  },
  {
   "cell_type": "code",
   "execution_count": 10,
   "id": "5abf264c-3dbd-4e33-ba36-22ef83cf27c8",
   "metadata": {},
   "outputs": [
    {
     "name": "stdout",
     "output_type": "stream",
     "text": [
      "push-liquidity\n"
     ]
    }
   ],
   "source": [
    "await evm.advanceTimeAndBlock(14 * 86400)\n",
    "await game.pushLiquidity()\n",
    "'push-liquidity'"
   ]
  },
  {
   "cell_type": "code",
   "execution_count": 11,
   "id": "67b50f34-3c6b-499f-8034-5aba0b2abb49",
   "metadata": {},
   "outputs": [
    {
     "name": "stdout",
     "output_type": "stream",
     "text": [
      "{\"name\" : \"Player\", \"description\" : \"ButtPlug Wars player badge\", \"image_data\" : \"\", \"attributes\" : [{\"trait_type\" : \"team\", \"value\" : \"ZERO\"}, {\"trait_type\" : \"weight\", \"value\" : 1000}, {\"trait_type\" : \"score\", \"value\" : 0}, {\"trait_type\" : \"vote\", \"value\" : \"0x0000000000000000000000000000000000000000\"}, {\"trait_type\" : \"bonded_token\", \"value\" : \"180\"}]}\n"
     ]
    }
   ],
   "source": [
    "await game.tokenURI(1)"
   ]
  },
  {
   "cell_type": "code",
   "execution_count": 12,
   "id": "2cf34751-9eae-4f0d-b85a-a65bf0b979df",
   "metadata": {},
   "outputs": [],
   "source": [
    "const buttPlugAbi = require('./out/IGame.sol/IButtPlug.json')\n",
    "const fakeButtPlug = await smock.fake(buttPlugAbi.abi)"
   ]
  },
  {
   "cell_type": "code",
   "execution_count": 13,
   "id": "223c5ec9-d2e3-4772-8637-874978bdc40a",
   "metadata": {},
   "outputs": [
    {
     "name": "stdout",
     "output_type": "stream",
     "text": [
      "BigNumber { _hex: \u001b[32m'0x0100000002'\u001b[39m, _isBigNumber: \u001b[33mtrue\u001b[39m }\n"
     ]
    }
   ],
   "source": [
    "await game['getBadgeId(uint256)'](2)"
   ]
  },
  {
   "cell_type": "code",
   "execution_count": 14,
   "id": "95ebe03e-1dfb-45ab-b8a6-98e90cf8b0d9",
   "metadata": {},
   "outputs": [
    {
     "name": "stdout",
     "output_type": "stream",
     "text": [
      "{\n",
      "  hash: \u001b[32m'0xf64af2e35577527546a118bbe4cb28cda0cd47c965b2af34d12d036021841593'\u001b[39m,\n",
      "  type: \u001b[33m2\u001b[39m,\n",
      "  accessList: [],\n",
      "  blockHash: \u001b[32m'0xcafc80e2e97a76dbe8dd5acfb2f53eb53df83a8773148fd11aab663adfa08a46'\u001b[39m,\n",
      "  blockNumber: \u001b[33m16000011\u001b[39m,\n",
      "  transactionIndex: \u001b[33m0\u001b[39m,\n",
      "  confirmations: \u001b[33m1\u001b[39m,\n",
      "  from: \u001b[32m'0xf39Fd6e51aad88F6F4ce6aB8827279cffFb92266'\u001b[39m,\n",
      "  gasPrice: BigNumber { _hex: \u001b[32m'0x010078378a'\u001b[39m, _isBigNumber: \u001b[33mtrue\u001b[39m },\n",
      "  maxPriorityFeePerGas: BigNumber { _hex: \u001b[32m'0x3b9aca00'\u001b[39m, _isBigNumber: \u001b[33mtrue\u001b[39m },\n",
      "  maxFeePerGas: BigNumber { _hex: \u001b[32m'0x01c555a514'\u001b[39m, _isBigNumber: \u001b[33mtrue\u001b[39m },\n",
      "  gasLimit: BigNumber { _hex: \u001b[32m'0x01bad9d8'\u001b[39m, _isBigNumber: \u001b[33mtrue\u001b[39m },\n",
      "  to: \u001b[32m'0x3D63c50AD04DD5aE394CAB562b7691DD5de7CF6f'\u001b[39m,\n",
      "  value: BigNumber { _hex: \u001b[32m'0x00'\u001b[39m, _isBigNumber: \u001b[33mtrue\u001b[39m },\n",
      "  nonce: \u001b[33m355\u001b[39m,\n",
      "  data: \u001b[32m'0x067e5741000000000000000000000000cf7fe7bcd83c607d6fd5052175ea78ab0da4c6d0'\u001b[39m,\n",
      "  r: \u001b[32m'0x20ac91992a4f6c8b641dffa4b4f07adc09d349dedac94ed9c4f07a9d206596fe'\u001b[39m,\n",
      "  s: \u001b[32m'0x24290c517e111df2e1e387e274b6e3402bda8ac162bf3c62373e5292b6a0ba7b'\u001b[39m,\n",
      "  v: \u001b[33m0\u001b[39m,\n",
      "  creates: \u001b[1mnull\u001b[22m,\n",
      "  chainId: \u001b[33m31337\u001b[39m,\n",
      "  wait: \u001b[36m[Function (anonymous)]\u001b[39m\n",
      "}\n"
     ]
    }
   ],
   "source": [
    "fakeButtPlug.owner.returns(signer.address)\n",
    "await game.mintButtPlugBadge(fakeButtPlug.address)"
   ]
  },
  {
   "cell_type": "code",
   "execution_count": 15,
   "id": "884182a0-1bf7-4f53-b2dd-6ad1da53b1d2",
   "metadata": {},
   "outputs": [
    {
     "name": "stdout",
     "output_type": "stream",
     "text": [
      "vote fake buttplug\n"
     ]
    }
   ],
   "source": [
    "// await game.mintButtPlugBadge(fakeButtPlug.address)\n",
    "await game['voteButtPlug(address,uint256[])'](fakeButtPlug.address, [1, '0x0100000002']);\n",
    "// await game.voteButtPlug(fakeButtPlug.address, '0x0800000000000002');\n",
    "'vote fake buttplug'"
   ]
  },
  {
   "cell_type": "code",
   "execution_count": 16,
   "id": "4b003ec2-2f09-44fc-b9b8-615b4631f541",
   "metadata": {},
   "outputs": [
    {
     "name": "stdout",
     "output_type": "stream",
     "text": [
      "add nft to keeper\n"
     ]
    }
   ],
   "source": [
    "await chess.connect(whale).transferFrom(whale._address, keeper._address, 182)\n",
    "'add nft to keeper'"
   ]
  },
  {
   "cell_type": "code",
   "execution_count": 17,
   "id": "bbd826e3-90c5-4570-b4f1-b6aba66c6765",
   "metadata": {},
   "outputs": [
    {
     "name": "stdout",
     "output_type": "stream",
     "text": [
      "BigNumber {\n",
      "  _hex: \u001b[32m'0x03256230011111100000000000000000099999900bcdecb000000001'\u001b[39m,\n",
      "  _isBigNumber: \u001b[33mtrue\u001b[39m\n",
      "}\n"
     ]
    }
   ],
   "source": [
    "await chess.board()"
   ]
  },
  {
   "cell_type": "code",
   "execution_count": 18,
   "id": "0c6a6a60-05a0-4c96-8f2c-bc9ced99496c",
   "metadata": {
    "tags": []
   },
   "outputs": [
    {
     "name": "stdout",
     "output_type": "stream",
     "text": [
      "59295000000000000\n",
      "29647500000000000\n",
      "19764999999999999\n",
      "19764999999999999\n",
      "19764999999999999\n"
     ]
    }
   ],
   "source": [
    "await evm.advanceTimeAndBlock(5*86400)\n",
    "fakeButtPlug.readMove.returns((10 << 6) | 25)\n",
    "await game.connect(keeper).executeMove()\n",
    "console.log((await officialSudoPool.getBuyNFTQuote(1)).inputAmount.toString())\n",
    "\n",
    "await evm.advanceTimeAndBlock(5*86400)\n",
    "fakeButtPlug.readMove.returns((13 << 6) | 30)\n",
    "await game.connect(keeper).executeMove()\n",
    "console.log((await officialSudoPool.getBuyNFTQuote(1)).inputAmount.toString())\n",
    "\n",
    "await evm.advanceTimeAndBlock(5*86400)\n",
    "fakeButtPlug.readMove.returns((20 << 6) | 28)\n",
    "await game.connect(keeper).executeMove()\n",
    "console.log((await officialSudoPool.getBuyNFTQuote(1)).inputAmount.toString())\n",
    "\n",
    "// reverts\n",
    "await evm.advanceTimeAndBlock(5*86400)\n",
    "fakeButtPlug.readMove.returns((12 << 6) | 28)\n",
    "await game.connect(keeper).executeMove()\n",
    "console.log((await officialSudoPool.getBuyNFTQuote(1)).inputAmount.toString())\n",
    "\n",
    "await evm.advanceTimeAndBlock(5*86400)\n",
    "fakeButtPlug.readMove.returns((28 << 6) | 42)\n",
    "await game.connect(keeper).executeMove()\n",
    "console.log((await officialSudoPool.getBuyNFTQuote(1)).inputAmount.toString())"
   ]
  },
  {
   "cell_type": "code",
   "execution_count": 19,
   "id": "5c6d18ad-05c5-4b98-9d92-2d0f0293f719",
   "metadata": {},
   "outputs": [
    {
     "name": "stdout",
     "output_type": "stream",
     "text": [
      "39529999999999999\n",
      "118589999999999998\n",
      "0\n"
     ]
    }
   ],
   "source": [
    "// can buy 3 minted tokens\n",
    "await officialSudoPool.swapTokenForAnyNFTs(1, bn.toUnit(1), signer.address, false, signer.address, {value: bn.toUnit(1)})\n",
    "console.log((await officialSudoPool.getBuyNFTQuote(1)).inputAmount.toString())\n",
    "await officialSudoPool.swapTokenForAnyNFTs(1, bn.toUnit(1), signer.address, false, signer.address, {value: bn.toUnit(1)})\n",
    "console.log((await officialSudoPool.getBuyNFTQuote(1)).inputAmount.toString())\n",
    "await officialSudoPool.swapTokenForAnyNFTs(1, bn.toUnit(1), signer.address, false, signer.address, {value: bn.toUnit(1)})\n",
    "console.log((await officialSudoPool.getBuyNFTQuote(1)).inputAmount.toString())"
   ]
  },
  {
   "cell_type": "code",
   "execution_count": 20,
   "id": "843a51e1-8bd4-4c24-9035-9208a4732bee",
   "metadata": {},
   "outputs": [
    {
     "name": "stdout",
     "output_type": "stream",
     "text": [
      "{\"name\" : \"Scoreboard\", \"description\" : \"ButtPlug Wars Scoreboard \n",
      "0(-3) - 0(-2) \n",
      "```\n",
      "6 ♜ ♝ ♛ ♚ ♝ ♜\n",
      "5 ♟ · ♟ · ♟ ♟\n",
      "4 · · · ♟ · ·\n",
      "3 ♟ · ♙ · · ♘\n",
      "2 ♙ ♙ · ♙ ♙ ♙\n",
      "1 ♖ · ♕ ♔ · ♖\n",
      "  a b c d e f\n",
      "```\", \"image_data\" : \"\", \"attributes\" : [{\"trait_type\" : \"game-score\", \"value\" : \"0(-3) - 0(-2)\"}, {\"trait_type\" : \"weight\", \"value\" : 2000}]}\n"
     ]
    }
   ],
   "source": [
    "await game.tokenURI(0)"
   ]
  },
  {
   "cell_type": "code",
   "execution_count": 21,
   "id": "776d2ea2-b86b-4d0d-b6c3-5a8ddf5f2c31",
   "metadata": {},
   "outputs": [
    {
     "name": "stdout",
     "output_type": "stream",
     "text": [
      "{\n",
      "  name: \u001b[32m'Player'\u001b[39m,\n",
      "  description: \u001b[32m'ButtPlug Wars player badge'\u001b[39m,\n",
      "  image_data: \u001b[32m''\u001b[39m,\n",
      "  attributes: [\n",
      "    { trait_type: \u001b[32m'team'\u001b[39m, value: \u001b[32m'ZERO'\u001b[39m },\n",
      "    { trait_type: \u001b[32m'weight'\u001b[39m, value: \u001b[33m1000\u001b[39m },\n",
      "    { trait_type: \u001b[32m'score'\u001b[39m, value: \u001b[33m-3000\u001b[39m },\n",
      "    {\n",
      "      trait_type: \u001b[32m'vote'\u001b[39m,\n",
      "      value: \u001b[32m'0xcf7fe7bcd83c607d6fd5052175ea78ab0da4c6d0'\u001b[39m\n",
      "    },\n",
      "    { trait_type: \u001b[32m'bonded_token'\u001b[39m, value: \u001b[32m'180'\u001b[39m }\n",
      "  ]\n",
      "}\n"
     ]
    }
   ],
   "source": [
    "JSON.parse(await game.tokenURI(1))"
   ]
  },
  {
   "cell_type": "code",
   "execution_count": 22,
   "id": "4410f4ef-8b34-418f-8ec2-4606c4cd134c",
   "metadata": {},
   "outputs": [
    {
     "name": "stdout",
     "output_type": "stream",
     "text": [
      "{\"name\" : \"Player\", \"description\" : \"ButtPlug Wars player badge\", \"image_data\" : \"\", \"attributes\" : [{\"trait_type\" : \"team\", \"value\" : \"ONE\"}, {\"trait_type\" : \"weight\", \"value\" : 1000}, {\"trait_type\" : \"score\", \"value\" : -2000}, {\"trait_type\" : \"vote\", \"value\" : \"0xcf7fe7bcd83c607d6fd5052175ea78ab0da4c6d0\"}, {\"trait_type\" : \"bonded_token\", \"value\" : \"181\"}]}\n"
     ]
    }
   ],
   "source": [
    "await game.tokenURI('0x0100000002')"
   ]
  },
  {
   "cell_type": "code",
   "execution_count": 23,
   "id": "92ca6a72-0273-462a-8f5e-28f4e1db2b5d",
   "metadata": {},
   "outputs": [],
   "source": [
    "const chessAbi = require('./eth-sdk/abis/mainnet/chess.json')\n",
    "const fakeChess = await smock.fake(chessAbi, {address: chess.address})"
   ]
  },
  {
   "cell_type": "code",
   "execution_count": 24,
   "id": "363f5a03-d688-4054-bea1-3a9580aa0510",
   "metadata": {},
   "outputs": [],
   "source": [
    "const NEW_BOARD = '0x03256230011111100000000000000000099999900bcdecb000000001'\n",
    "const WHITE_CAP = '0x03256230011111100000000000000000099909900bcdecb000000001'\n",
    "const BLACK_CAP = '0x03256230011011100000000000000000099999900bcdecb000000001'\n",
    "const BOTH_CAPS = '0x03256230011011100000000000000000099909900bcdecb000000001'"
   ]
  },
  {
   "cell_type": "code",
   "execution_count": 25,
   "id": "3cf7bdeb-af47-434f-a504-8152ba43254f",
   "metadata": {},
   "outputs": [
    {
     "name": "stdout",
     "output_type": "stream",
     "text": [
      "{\n",
      "  hash: \u001b[32m'0x23292e75a0f975a928c211979ba00213aecef86dc1a5c1836ca8670244b74102'\u001b[39m,\n",
      "  type: \u001b[33m2\u001b[39m,\n",
      "  accessList: [],\n",
      "  blockHash: \u001b[32m'0xe494864ac05dd32ad0672061e597731860f9742f0d22f3effe069f4dfcdd5cc1'\u001b[39m,\n",
      "  blockNumber: \u001b[33m16000028\u001b[39m,\n",
      "  transactionIndex: \u001b[33m0\u001b[39m,\n",
      "  confirmations: \u001b[33m1\u001b[39m,\n",
      "  from: \u001b[32m'0x9429cd74A3984396f3117d51cde46ea8e0e21487'\u001b[39m,\n",
      "  gasPrice: BigNumber { _hex: \u001b[32m'0x5192fdda'\u001b[39m, _isBigNumber: \u001b[33mtrue\u001b[39m },\n",
      "  maxPriorityFeePerGas: BigNumber { _hex: \u001b[32m'0x3b9aca00'\u001b[39m, _isBigNumber: \u001b[33mtrue\u001b[39m },\n",
      "  maxFeePerGas: BigNumber { _hex: \u001b[32m'0x678b31b4'\u001b[39m, _isBigNumber: \u001b[33mtrue\u001b[39m },\n",
      "  gasLimit: BigNumber { _hex: \u001b[32m'0x01bad458'\u001b[39m, _isBigNumber: \u001b[33mtrue\u001b[39m },\n",
      "  to: \u001b[32m'0x3D63c50AD04DD5aE394CAB562b7691DD5de7CF6f'\u001b[39m,\n",
      "  value: BigNumber { _hex: \u001b[32m'0x00'\u001b[39m, _isBigNumber: \u001b[33mtrue\u001b[39m },\n",
      "  nonce: \u001b[33m507\u001b[39m,\n",
      "  data: \u001b[32m'0x30e6d8b2'\u001b[39m,\n",
      "  r: \u001b[32m'0x0000000000000000000000000000000000000000000000000000000000000001'\u001b[39m,\n",
      "  s: \u001b[32m'0x0000000000000000000000000000000000000000000000000000000000000002'\u001b[39m,\n",
      "  v: \u001b[33m1\u001b[39m,\n",
      "  creates: \u001b[1mnull\u001b[22m,\n",
      "  chainId: \u001b[33m31337\u001b[39m,\n",
      "  wait: \u001b[36m[Function (anonymous)]\u001b[39m\n",
      "}\n"
     ]
    }
   ],
   "source": [
    "fakeChess.board.reset();\n",
    "fakeChess.balanceOf.returns(9);\n",
    "fakeChess.board.returnsAtCall(0, NEW_BOARD)\n",
    "fakeChess.board.returnsAtCall(1, WHITE_CAP)\n",
    "await evm.advanceTimeAndBlock(5*86400)\n",
    "await game.connect(keeper).executeMove()"
   ]
  },
  {
   "cell_type": "code",
   "execution_count": 26,
   "id": "e10215b5-68d8-4061-9f2c-64f2a9b4843d",
   "metadata": {},
   "outputs": [],
   "source": [
    "const buttPlugBadge = await game['getBadgeId(address)'](fakeButtPlug.address)"
   ]
  },
  {
   "cell_type": "code",
   "execution_count": 27,
   "id": "546ba734-0ee1-40e7-a25f-d63312964ffc",
   "metadata": {},
   "outputs": [],
   "source": [
    "fakeChess.board.returns(NEW_BOARD)\n",
    "fakeButtPlug.readMove.returns((10 << 6) | 25)"
   ]
  },
  {
   "cell_type": "code",
   "execution_count": 30,
   "id": "634f377c-193e-47c0-81d2-7f4c4917f251",
   "metadata": {},
   "outputs": [
    {
     "name": "stdout",
     "output_type": "stream",
     "text": [
      "{\n",
      "  name: \u001b[32m'ButtPlug'\u001b[39m,\n",
      "  description: \u001b[32m'ButtPlug contract badge'\u001b[39m,\n",
      "  image_data: \u001b[32m''\u001b[39m,\n",
      "  attributes: [\n",
      "    { trait_type: \u001b[32m'score'\u001b[39m, value: \u001b[33m-6000000000\u001b[39m },\n",
      "    { trait_type: \u001b[32m'simulated_move'\u001b[39m, value: \u001b[33m665\u001b[39m },\n",
      "    { trait_type: \u001b[32m'simulated_gas'\u001b[39m, value: \u001b[33m2898\u001b[39m },\n",
      "    { trait_type: \u001b[32m'simulated_description'\u001b[39m, value: \u001b[32m'e1 knight to f3'\u001b[39m },\n",
      "    { trait_type: \u001b[32m'is_legal_move'\u001b[39m, value: \u001b[33mtrue\u001b[39m }\n",
      "  ]\n",
      "}\n"
     ]
    },
    {
     "name": "stderr",
     "output_type": "stream",
     "text": [
      "unknown msg_type: comm_open\n",
      "unknown msg_type: comm_msg\n"
     ]
    }
   ],
   "source": [
    "JSON.parse(await game.tokenURI(buttPlugBadge))"
   ]
  },
  {
   "cell_type": "code",
   "execution_count": 29,
   "id": "0c864bb1-39fa-4d22-b80d-573bef15177d",
   "metadata": {},
   "outputs": [
    {
     "name": "stdout",
     "output_type": "stream",
     "text": [
      "{\"name\" : \"Scoreboard\", \"description\" : \"ButtPlug Wars Scoreboard \n",
      "0(-3) - 0(-3) \n",
      "```\n",
      "6 ♜ ♝ ♛ ♚ ♝ ♜\n",
      "5 ♟ ♟ ♟ ♟ ♟ ♟\n",
      "4 · · · · · ·\n",
      "3 · · · · · ·\n",
      "2 ♙ ♙ ♙ ♙ ♙ ♙\n",
      "1 ♖ ♘ ♕ ♔ ♘ ♖\n",
      "  a b c d e f\n",
      "```\", \"image_data\" : \"\", \"attributes\" : [{\"trait_type\" : \"game-score\", \"value\" : \"0(-3) - 0(-3)\"}, {\"trait_type\" : \"weight\", \"value\" : 2000}]}\n"
     ]
    }
   ],
   "source": [
    "await game.tokenURI(0)"
   ]
  },
  {
   "cell_type": "code",
   "execution_count": 32,
   "id": "8694c48e-720b-4977-8bc6-417971b3f2f1",
   "metadata": {},
   "outputs": [
    {
     "name": "stdout",
     "output_type": "stream",
     "text": [
      "{\n",
      "  name: \u001b[32m'Player'\u001b[39m,\n",
      "  description: \u001b[32m'ButtPlug Wars player badge'\u001b[39m,\n",
      "  image_data: \u001b[32m''\u001b[39m,\n",
      "  attributes: [\n",
      "    { trait_type: \u001b[32m'team'\u001b[39m, value: \u001b[32m'ZERO'\u001b[39m },\n",
      "    { trait_type: \u001b[32m'weight'\u001b[39m, value: \u001b[33m1000\u001b[39m },\n",
      "    { trait_type: \u001b[32m'score'\u001b[39m, value: \u001b[33m-3000\u001b[39m },\n",
      "    {\n",
      "      trait_type: \u001b[32m'vote'\u001b[39m,\n",
      "      value: \u001b[32m'0xe227858dff959405a53efcabba2d0e41e0e16fe5'\u001b[39m\n",
      "    },\n",
      "    { trait_type: \u001b[32m'bonded_token'\u001b[39m, value: \u001b[32m'180'\u001b[39m }\n",
      "  ]\n",
      "}\n"
     ]
    }
   ],
   "source": [
    "JSON.parse(await game.tokenURI(1))"
   ]
  },
  {
   "cell_type": "code",
   "execution_count": 31,
   "id": "649ccb6e-1785-4b03-9600-bb24c32678f8",
   "metadata": {},
   "outputs": [
    {
     "name": "stderr",
     "output_type": "stream",
     "text": [
      "Error: VM Exception while processing transaction: reverted with an unrecognized custom error\n",
      "    at <UnrecognizedContract>.<unknown> (0x3d63c50ad04dd5ae394cab562b7691dd5de7cf6f)\n",
      "    at HardhatNode._gatherTraces (/Users/wei3erHase/wonderland/projects/buttplug-wars/node_modules/hardhat/src/internal/hardhat-network/provider/node.ts:1680:30)\n",
      "    at processTicksAndRejections (node:internal/process/task_queues:96:5)\n",
      "    at HardhatNode._mineBlockWithPendingTxs (/Users/wei3erHase/wonderland/projects/buttplug-wars/node_modules/hardhat/src/internal/hardhat-network/provider/node.ts:1805:23)\n",
      "    at HardhatNode.mineBlock (/Users/wei3erHase/wonderland/projects/buttplug-wars/node_modules/hardhat/src/internal/hardhat-network/provider/node.ts:494:16)\n",
      "    at EthModule._sendTransactionAndReturnHash (/Users/wei3erHase/wonderland/projects/buttplug-wars/node_modules/hardhat/src/internal/hardhat-network/provider/modules/eth.ts:1522:18)\n",
      "    at HardhatNetworkProvider.request (/Users/wei3erHase/wonderland/projects/buttplug-wars/node_modules/hardhat/src/internal/hardhat-network/provider/provider.ts:118:18)\n",
      "    at EthersProviderWrapper.send (/Users/wei3erHase/wonderland/projects/buttplug-wars/node_modules/@nomiclabs/hardhat-ethers/src/internal/ethers-provider-wrapper.ts:13:20)\n"
     ]
    }
   ],
   "source": [
    "await game.unbondLiquidity()"
   ]
  },
  {
   "cell_type": "code",
   "execution_count": 44,
   "id": "fbd620de-4c9a-4a26-a61b-0d39a0a0511d",
   "metadata": {},
   "outputs": [
    {
     "name": "stdout",
     "output_type": "stream",
     "text": [
      "{\n",
      "  hash: \u001b[32m'0xc89b654c9f7724d46c5d8954879380adb639edf31cf1d98af2d763f410794022'\u001b[39m,\n",
      "  type: \u001b[33m2\u001b[39m,\n",
      "  accessList: [],\n",
      "  blockHash: \u001b[32m'0x3921bc49fcb7fff11c138175bd5e1edb178ec159eb04c27321dbd3f3ab870b67'\u001b[39m,\n",
      "  blockNumber: \u001b[33m16000048\u001b[39m,\n",
      "  transactionIndex: \u001b[33m0\u001b[39m,\n",
      "  confirmations: \u001b[33m1\u001b[39m,\n",
      "  from: \u001b[32m'0xf39Fd6e51aad88F6F4ce6aB8827279cffFb92266'\u001b[39m,\n",
      "  gasPrice: BigNumber { _hex: \u001b[32m'0x3d272f4e'\u001b[39m, _isBigNumber: \u001b[33mtrue\u001b[39m },\n",
      "  maxPriorityFeePerGas: BigNumber { _hex: \u001b[32m'0x3b9aca00'\u001b[39m, _isBigNumber: \u001b[33mtrue\u001b[39m },\n",
      "  maxFeePerGas: BigNumber { _hex: \u001b[32m'0x3eb3949c'\u001b[39m, _isBigNumber: \u001b[33mtrue\u001b[39m },\n",
      "  gasLimit: BigNumber { _hex: \u001b[32m'0x01bad558'\u001b[39m, _isBigNumber: \u001b[33mtrue\u001b[39m },\n",
      "  to: \u001b[32m'0x3D63c50AD04DD5aE394CAB562b7691DD5de7CF6f'\u001b[39m,\n",
      "  value: BigNumber { _hex: \u001b[32m'0x00'\u001b[39m, _isBigNumber: \u001b[33mtrue\u001b[39m },\n",
      "  nonce: \u001b[33m363\u001b[39m,\n",
      "  data: \u001b[32m'0xd70981540000000000000000000000000000000000000000000000000800000000000002'\u001b[39m,\n",
      "  r: \u001b[32m'0xe32c68dfbf7af42fad3e34dba9a51ad642197ab8e06d84fcc5baf86eb088bc83'\u001b[39m,\n",
      "  s: \u001b[32m'0x6756fdca27aeb94596a1c2f5828be813073b84e56ab6b92a8ab91b21164dc00c'\u001b[39m,\n",
      "  v: \u001b[33m1\u001b[39m,\n",
      "  creates: \u001b[1mnull\u001b[22m,\n",
      "  chainId: \u001b[33m31337\u001b[39m,\n",
      "  wait: \u001b[36m[Function (anonymous)]\u001b[39m\n",
      "}\n"
     ]
    }
   ],
   "source": [
    "await game.claimPrize('0x0800000000000002')"
   ]
  },
  {
   "cell_type": "code",
   "execution_count": 45,
   "id": "f0b28f8b-fc80-4981-9da8-660ecd809f3e",
   "metadata": {
    "tags": []
   },
   "outputs": [
    {
     "name": "stdout",
     "output_type": "stream",
     "text": [
      "{\n",
      "  hash: \u001b[32m'0x4a64636b61e5be704e793560f11d754505e7a4cbc7ef69e8e1302512ba63a818'\u001b[39m,\n",
      "  type: \u001b[33m2\u001b[39m,\n",
      "  accessList: [],\n",
      "  blockHash: \u001b[32m'0xe06a5cdc92a72941fce38af1db9eaebb3063980babcba29c32f0ac1646ca3965'\u001b[39m,\n",
      "  blockNumber: \u001b[33m16000050\u001b[39m,\n",
      "  transactionIndex: \u001b[33m0\u001b[39m,\n",
      "  confirmations: \u001b[33m1\u001b[39m,\n",
      "  from: \u001b[32m'0xf39Fd6e51aad88F6F4ce6aB8827279cffFb92266'\u001b[39m,\n",
      "  gasPrice: BigNumber { _hex: \u001b[32m'0x3cca9550'\u001b[39m, _isBigNumber: \u001b[33mtrue\u001b[39m },\n",
      "  maxPriorityFeePerGas: BigNumber { _hex: \u001b[32m'0x3b9aca00'\u001b[39m, _isBigNumber: \u001b[33mtrue\u001b[39m },\n",
      "  maxFeePerGas: BigNumber { _hex: \u001b[32m'0x3dfa60a0'\u001b[39m, _isBigNumber: \u001b[33mtrue\u001b[39m },\n",
      "  gasLimit: BigNumber { _hex: \u001b[32m'0x01bad458'\u001b[39m, _isBigNumber: \u001b[33mtrue\u001b[39m },\n",
      "  to: \u001b[32m'0x3D63c50AD04DD5aE394CAB562b7691DD5de7CF6f'\u001b[39m,\n",
      "  value: BigNumber { _hex: \u001b[32m'0x00'\u001b[39m, _isBigNumber: \u001b[33mtrue\u001b[39m },\n",
      "  nonce: \u001b[33m364\u001b[39m,\n",
      "  data: \u001b[32m'0x7ea382c1'\u001b[39m,\n",
      "  r: \u001b[32m'0xc8d5661d06ca7c1573672eca2afaa9e052d5a8dcb8518f19bb7dc8d2553e4023'\u001b[39m,\n",
      "  s: \u001b[32m'0x06e95d2090880d19b332f0873bd7dcc700e3d483c74161c8aed382b8e65e2180'\u001b[39m,\n",
      "  v: \u001b[33m1\u001b[39m,\n",
      "  creates: \u001b[1mnull\u001b[22m,\n",
      "  chainId: \u001b[33m31337\u001b[39m,\n",
      "  wait: \u001b[36m[Function (anonymous)]\u001b[39m\n",
      "}\n"
     ]
    }
   ],
   "source": [
    "await evm.advanceTimeAndBlock(14*86400)\n",
    "await game.withdrawLiquidity()"
   ]
  },
  {
   "cell_type": "code",
   "execution_count": 46,
   "id": "92e5f75e-99cf-46ee-85d9-8f08ed4b5bd5",
   "metadata": {},
   "outputs": [
    {
     "name": "stdout",
     "output_type": "stream",
     "text": [
      "{\n",
      "  hash: \u001b[32m'0x13c8dbf42250d60cbba80171796bee55dbde02802e4c316afd54c9a6ad8e8781'\u001b[39m,\n",
      "  type: \u001b[33m2\u001b[39m,\n",
      "  accessList: [],\n",
      "  blockHash: \u001b[32m'0x4ef50dc4ebb6c7786409c8ef48ed67a9c171077100c4521755b8df400fe4efa2'\u001b[39m,\n",
      "  blockNumber: \u001b[33m16000051\u001b[39m,\n",
      "  transactionIndex: \u001b[33m0\u001b[39m,\n",
      "  confirmations: \u001b[33m1\u001b[39m,\n",
      "  from: \u001b[32m'0xf39Fd6e51aad88F6F4ce6aB8827279cffFb92266'\u001b[39m,\n",
      "  gasPrice: BigNumber { _hex: \u001b[32m'0x3ca4ca81'\u001b[39m, _isBigNumber: \u001b[33mtrue\u001b[39m },\n",
      "  maxPriorityFeePerGas: BigNumber { _hex: \u001b[32m'0x3b9aca00'\u001b[39m, _isBigNumber: \u001b[33mtrue\u001b[39m },\n",
      "  maxFeePerGas: BigNumber { _hex: \u001b[32m'0x3daecb02'\u001b[39m, _isBigNumber: \u001b[33mtrue\u001b[39m },\n",
      "  gasLimit: BigNumber { _hex: \u001b[32m'0x01bad458'\u001b[39m, _isBigNumber: \u001b[33mtrue\u001b[39m },\n",
      "  to: \u001b[32m'0x3D63c50AD04DD5aE394CAB562b7691DD5de7CF6f'\u001b[39m,\n",
      "  value: BigNumber { _hex: \u001b[32m'0x00'\u001b[39m, _isBigNumber: \u001b[33mtrue\u001b[39m },\n",
      "  nonce: \u001b[33m365\u001b[39m,\n",
      "  data: \u001b[32m'0x48d37a58'\u001b[39m,\n",
      "  r: \u001b[32m'0xb8d27294c1e2b5676387f1491ef3d45f293d31604d0499dd644f483dd7d04788'\u001b[39m,\n",
      "  s: \u001b[32m'0x043ee089cbedeab2489d00c02ab5481635fb80d95cfa2a89f350e72817c53d07'\u001b[39m,\n",
      "  v: \u001b[33m1\u001b[39m,\n",
      "  creates: \u001b[1mnull\u001b[22m,\n",
      "  chainId: \u001b[33m31337\u001b[39m,\n",
      "  wait: \u001b[36m[Function (anonymous)]\u001b[39m\n",
      "}\n"
     ]
    }
   ],
   "source": [
    "await game.withdrawPrize()"
   ]
  },
  {
   "cell_type": "code",
   "execution_count": null,
   "id": "c6705416-c0b0-4466-b5e1-11d260bc82dd",
   "metadata": {},
   "outputs": [],
   "source": []
  },
  {
   "cell_type": "code",
   "execution_count": null,
   "id": "ad3420bf-7aec-4136-bf08-1c697e2b3dba",
   "metadata": {},
   "outputs": [],
   "source": []
  },
  {
   "cell_type": "code",
   "execution_count": 66,
   "id": "4b09631a-1060-4711-88bb-50a8e571e3cb",
   "metadata": {},
   "outputs": [
    {
     "name": "stdout",
     "output_type": "stream",
     "text": [
      "\u001b[33m20\u001b[39m\n"
     ]
    }
   ],
   "source": [
    "1e9/0.05e9"
   ]
  },
  {
   "cell_type": "code",
   "execution_count": 68,
   "id": "4ba32463-e937-46be-b0bb-d732a1b962d2",
   "metadata": {},
   "outputs": [
    {
     "name": "stdout",
     "output_type": "stream",
     "text": [
      "\u001b[33m8000\u001b[39m\n"
     ]
    },
    {
     "name": "stderr",
     "output_type": "stream",
     "text": [
      "unknown msg_type: comm_open\n",
      "unknown msg_type: comm_msg\n",
      "unknown msg_type: comm_open\n",
      "unknown msg_type: comm_msg\n"
     ]
    }
   ],
   "source": [
    "(1e9**3) / (0.05e9**3)"
   ]
  },
  {
   "cell_type": "code",
   "execution_count": 63,
   "id": "f277d8b6-0a5a-4e5e-8baa-8f76de9b83c2",
   "metadata": {},
   "outputs": [
    {
     "name": "stdout",
     "output_type": "stream",
     "text": [
      "\u001b[33m125000000\u001b[39m\n"
     ]
    }
   ],
   "source": [
    "0.5e9**3/1e18"
   ]
  },
  {
   "cell_type": "code",
   "execution_count": null,
   "id": "65e73360-ba84-46ef-912e-9ac0d9ac7a92",
   "metadata": {},
   "outputs": [],
   "source": []
  }
 ],
 "metadata": {
  "kernelspec": {
   "display_name": "TypeScript",
   "language": "typescript",
   "name": "tslab"
  },
  "language_info": {
   "codemirror_mode": {
    "mode": "typescript",
    "name": "javascript",
    "typescript": true
   },
   "file_extension": ".ts",
   "mimetype": "text/typescript",
   "name": "typescript",
   "version": "3.7.2"
  }
 },
 "nbformat": 4,
 "nbformat_minor": 5
}
