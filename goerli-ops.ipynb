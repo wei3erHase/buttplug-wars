{
 "cells": [
  {
   "cell_type": "markdown",
   "id": "d0d6c4e5-bc8a-47b3-bde7-8aa560d762e3",
   "metadata": {},
   "source": [
    "# ButtPlug Wars"
   ]
  },
  {
   "cell_type": "markdown",
   "id": "03ab2d1f-905a-4e8e-b2fd-6956e0a85187",
   "metadata": {
    "tags": []
   },
   "source": [
    "## Setup"
   ]
  },
  {
   "cell_type": "code",
   "execution_count": null,
   "id": "31e3d7c6-600a-4465-8381-7c4f0d23f36b",
   "metadata": {
    "tags": []
   },
   "outputs": [],
   "source": [
    "import * as hardhat from 'hardhat'\n",
    "import '@nomiclabs/hardhat-ethers'\n",
    "import { ethers } from 'hardhat'\n",
    "\n",
    "import * as bn from './utils/bn'\n",
    "import * as evm from './utils/evm'\n",
    "import * as wallet from './utils/wallet'\n",
    "import * as contracts from './utils/contracts'\n",
    "\n",
    "import {getMainnetSdk} from '@dethcrypto/eth-sdk-client';"
   ]
  },
  {
   "cell_type": "code",
   "execution_count": null,
   "id": "bd5dbfd3-2a22-4ca6-aabe-3f1e4ce070ae",
   "metadata": {
    "tags": []
   },
   "outputs": [],
   "source": [
    "const WETH_9 = '0xB4FBF271143F4FBf7B91A5ded31805e42b2208d6';\n",
    "const KEEP3R = '0x145d364e193204f8Ff0A87b718938406595678Dd';\n",
    "const KP3R_LP = '0x78958e8e9C54d9aA56eDED102097E73ef9c26411';\n",
    "const SUDOSWAP_FACTORY = '0xF0202E9267930aE942F0667dC6d805057328F6dC';\n",
    "const SUDOSWAP_XYK_CURVE = '0x02363a2F1B2c2C5815cb6893Aa27861BE0c4F760';"
   ]
  },
  {
   "cell_type": "code",
   "execution_count": null,
   "id": "69dbd374-a867-4831-b0d8-c299e774f91c",
   "metadata": {},
   "outputs": [],
   "source": [
    "const provider = new ethers.providers.JsonRpcProvider(process.env['GOERLI_RPC'])"
   ]
  },
  {
   "cell_type": "code",
   "execution_count": null,
   "id": "66f18443-20be-44a9-acd9-be6d704408fc",
   "metadata": {
    "tags": []
   },
   "outputs": [],
   "source": [
    "// Players\n",
    "const signer = new ethers.Wallet(process.env['GOERLI_DEPLOYER_PK'], provider)"
   ]
  },
  {
   "cell_type": "code",
   "execution_count": null,
   "id": "c2abeefd-4da9-4d91-bd82-98e3cbf8849f",
   "metadata": {},
   "outputs": [],
   "source": [
    "const gameAbi = await contracts.getContractAbi('./out/ButtPlugWars.sol/ButtPlugWars.json')\n",
    "const game = await ethers.getContractAt(gameAbi, '0xfadcfe59af139d5959bb140e8a127dee32d28e5e', signer)\n",
    "\n",
    "const chessAbi = await contracts.getContractAbi('./out/ChessForTest.sol/ChessForTest.json')\n",
    "const chess = await ethers.getContractAt(chessAbi, '0xd4e87aff30011bd2245b913ad20010368f6e3fb4', signer)"
   ]
  },
  {
   "cell_type": "markdown",
   "id": "411a9b9b-7a19-487a-a0bb-d4c442368462",
   "metadata": {},
   "source": [
    "### Event start"
   ]
  },
  {
   "cell_type": "code",
   "execution_count": null,
   "id": "8c7df92f-e62e-4258-8d3c-4255656014d4",
   "metadata": {
    "tags": []
   },
   "outputs": [],
   "source": [
    "const tx = await game.startEvent();"
   ]
  },
  {
   "cell_type": "code",
   "execution_count": null,
   "id": "38e9e90f-528a-4db7-811c-07801a136170",
   "metadata": {},
   "outputs": [],
   "source": [
    "tx"
   ]
  },
  {
   "cell_type": "markdown",
   "id": "25406728-8ae5-4d58-b1e3-87270fc12a88",
   "metadata": {},
   "source": [
    "### Player Badge minting"
   ]
  },
  {
   "cell_type": "code",
   "execution_count": null,
   "id": "b715abaf-58de-472b-83c7-cf7cd98746f5",
   "metadata": {},
   "outputs": [],
   "source": [
    "await chess.mintMove(0,0)\n",
    "await chess.totalSupply()"
   ]
  },
  {
   "cell_type": "code",
   "execution_count": null,
   "id": "e902f724-4e1c-4f3a-b125-50bda54b2fb4",
   "metadata": {
    "tags": []
   },
   "outputs": [],
   "source": [
    "// pre-genesis tokens\n",
    "await chess.setApprovalForAll(game.address, true)\n",
    "\n",
    "await game.mintPlayerBadge(0, 0, {value: bn.toUnit(0.1)})\n",
    "const tx = await game.mintPlayerBadge(1, 1, {value: bn.toUnit(0.15)})"
   ]
  },
  {
   "cell_type": "code",
   "execution_count": null,
   "id": "34fd198f-4b1e-491d-9cdf-863ca0290b28",
   "metadata": {},
   "outputs": [],
   "source": [
    "const two = await game['getBadgeId(uint256)'](2)"
   ]
  },
  {
   "cell_type": "markdown",
   "id": "addba122-284a-45d3-8d11-163d9026e262",
   "metadata": {
    "tags": []
   },
   "source": [
    "### ButtPlug Badge minting"
   ]
  },
  {
   "cell_type": "code",
   "execution_count": null,
   "id": "b8b5e5f6-8ca1-4112-b25a-7fca04a8de14",
   "metadata": {
    "tags": []
   },
   "outputs": [],
   "source": [
    "const buttPlug = await contracts.deploy(signer, './out/ButtPlugForTest.sol/ButtPlugForTest.json', [])\n",
    "\n",
    "const tx = await game.mintButtPlugBadge(buttPlug.address)"
   ]
  },
  {
   "cell_type": "markdown",
   "id": "f735964d-d429-4478-a31b-336a6732f5cf",
   "metadata": {
    "tags": []
   },
   "source": [
    "### Game start"
   ]
  },
  {
   "cell_type": "code",
   "execution_count": null,
   "id": "5abf264c-3dbd-4e33-ba36-22ef83cf27c8",
   "metadata": {
    "tags": []
   },
   "outputs": [],
   "source": [
    "const tx = await game.pushLiquidity()"
   ]
  },
  {
   "cell_type": "markdown",
   "id": "5a1a09e8-0b17-4033-b5a2-a1465db44582",
   "metadata": {
    "tags": []
   },
   "source": [
    "## Gameplay"
   ]
  },
  {
   "cell_type": "code",
   "execution_count": null,
   "id": "9422d08a-182f-4485-a0ef-d2977fd50e92",
   "metadata": {},
   "outputs": [],
   "source": [
    "const { sudoPool, keep3r } = getMainnetSdk(signer)\n",
    "const officialSudoPool = sudoPool.attach(await game.SUDOSWAP_POOL())\n",
    "const testKeep3r = keep3r.attach(KEEP3R)"
   ]
  },
  {
   "cell_type": "code",
   "execution_count": null,
   "id": "9ad3c194-14a7-4cb5-a2b1-a47d0884718c",
   "metadata": {
    "tags": []
   },
   "outputs": [],
   "source": [
    "const kp3rV1 = await testKeep3r.keep3rV1()\n",
    "await testKeep3r.bond(kp3rV1,0)\n",
    "await testKeep3r.activate(kp3rV1)\n",
    "'activate keeper'"
   ]
  },
  {
   "cell_type": "markdown",
   "id": "7623d3a9-42cf-4445-a868-4764facc0eae",
   "metadata": {},
   "source": [
    "### E2E environment"
   ]
  },
  {
   "cell_type": "code",
   "execution_count": null,
   "id": "5aa94aec-4fb1-4818-ac01-fedb61d9cdf4",
   "metadata": {
    "tags": []
   },
   "outputs": [],
   "source": [
    "await game['voteButtPlug(address,uint256)'](buttPlug.address, 1);\n",
    "await game['voteButtPlug(address,uint256[])'](buttPlug.address, [two]);\n",
    "\n",
    "const board = await chess.board()\n",
    "await buttPlug.setMove(board,1)\n",
    "await buttPlug.setDepth(3)\n",
    "\n",
    "const tx = await game.executeMove()"
   ]
  },
  {
   "cell_type": "code",
   "execution_count": null,
   "id": "f660a34b-f3ff-4254-83c0-237361ade6ee",
   "metadata": {
    "tags": []
   },
   "outputs": [],
   "source": [
    "console.log((await officialSudoPool.getBuyNFTQuote(1)).inputAmount.toString())\n",
    "await game.executeMove()\n",
    "await officialSudoPool.swapTokenForAnyNFTs(1, bn.toUnit(0.1), signer.address, false, signer.address, {value: bn.toUnit(0.1)})"
   ]
  },
  {
   "cell_type": "markdown",
   "id": "7e56a9ec-9d2e-4182-847b-ef9eb0f391a0",
   "metadata": {},
   "source": [
    "### Post Genesis badges"
   ]
  },
  {
   "cell_type": "code",
   "execution_count": null,
   "id": "2374a2ac-bd93-4cb7-b98c-585097975950",
   "metadata": {},
   "outputs": [],
   "source": [
    "const receipt = await tx.wait()\n",
    "const postGenesisToken = receipt.events[2].topics[3]"
   ]
  },
  {
   "cell_type": "code",
   "execution_count": null,
   "id": "2b793750-bd52-479c-8bae-cc86d9743efc",
   "metadata": {},
   "outputs": [],
   "source": [
    "await game.mintPlayerBadge(postGenesisToken, 1, {value: bn.toUnit(0.1)})"
   ]
  },
  {
   "cell_type": "code",
   "execution_count": null,
   "id": "8278d678-f6d9-4ab8-b3ad-6af8f6e44ad7",
   "metadata": {},
   "outputs": [],
   "source": [
    "const postGenBadge = await game['getBadgeId(uint256)'](3)"
   ]
  },
  {
   "cell_type": "markdown",
   "id": "0bab0324-7816-4d9c-aa86-345ca2b03a0c",
   "metadata": {
    "tags": []
   },
   "source": [
    "## Token URIs"
   ]
  },
  {
   "cell_type": "code",
   "execution_count": null,
   "id": "2a455751-3bba-4250-a4d4-66773492ad8d",
   "metadata": {
    "tags": []
   },
   "outputs": [],
   "source": [
    "const scoreboard = await game.tokenURI(0)"
   ]
  },
  {
   "cell_type": "code",
   "execution_count": null,
   "id": "ed1fc49a-90be-4984-b68f-8538ebcac646",
   "metadata": {},
   "outputs": [],
   "source": [
    "JSON.parse(atob(scoreboard.substring(29,1e6)))"
   ]
  },
  {
   "cell_type": "code",
   "execution_count": null,
   "id": "776d2ea2-b86b-4d0d-b6c3-5a8ddf5f2c31",
   "metadata": {
    "tags": []
   },
   "outputs": [],
   "source": [
    "JSON.parse(JSON.stringify(await game.tokenURI(1)))"
   ]
  },
  {
   "cell_type": "code",
   "execution_count": null,
   "id": "43fc2a2a-59ca-4713-83d3-98c01415bb7f",
   "metadata": {
    "tags": []
   },
   "outputs": [],
   "source": [
    "const buttPlugBadge = await game['getBadgeId(address)'](buttPlug.address)\n",
    "JSON.parse(await game.tokenURI(buttPlugBadge))"
   ]
  },
  {
   "cell_type": "markdown",
   "id": "cd3d0841-6f82-4a07-abd9-9a7b94b1916d",
   "metadata": {
    "tags": []
   },
   "source": [
    "## Prize claiming"
   ]
  },
  {
   "cell_type": "code",
   "execution_count": null,
   "id": "649ccb6e-1785-4b03-9600-bb24c32678f8",
   "metadata": {
    "tags": []
   },
   "outputs": [],
   "source": [
    "const tx = await game.unbondLiquidity()\n",
    "\n",
    "await contracts.logTx(tx)"
   ]
  },
  {
   "cell_type": "code",
   "execution_count": null,
   "id": "fbd620de-4c9a-4a26-a61b-0d39a0a0511d",
   "metadata": {
    "tags": []
   },
   "outputs": [],
   "source": [
    "const tx = await game['claimPrize(uint256)'](5)\n",
    "// const tx = await game['claimPrize(uint256[])']([0,1,2,3,4])\n",
    "\n",
    "await contracts.logTx(tx)"
   ]
  },
  {
   "cell_type": "markdown",
   "id": "bbfa348f-8fe5-4ba9-8fdd-1b40de5fb2ae",
   "metadata": {},
   "source": [
    "### Prize ceremony"
   ]
  },
  {
   "cell_type": "code",
   "execution_count": null,
   "id": "f0b28f8b-fc80-4981-9da8-660ecd809f3e",
   "metadata": {
    "tags": []
   },
   "outputs": [],
   "source": [
    "await evm.advanceTimeAndBlock(14*86400)\n",
    "const tx = await game.withdrawLiquidity()\n",
    "\n",
    "await contracts.logTx(tx)"
   ]
  },
  {
   "cell_type": "code",
   "execution_count": null,
   "id": "92e5f75e-99cf-46ee-85d9-8f08ed4b5bd5",
   "metadata": {
    "tags": []
   },
   "outputs": [],
   "source": [
    "const tx = await game.withdrawPrize()\n",
    "\n",
    "await contracts.logTx(tx)"
   ]
  }
 ],
 "metadata": {
  "kernelspec": {
   "display_name": "TypeScript",
   "language": "typescript",
   "name": "tslab"
  },
  "language_info": {
   "codemirror_mode": {
    "mode": "typescript",
    "name": "javascript",
    "typescript": true
   },
   "file_extension": ".ts",
   "mimetype": "text/typescript",
   "name": "typescript",
   "version": "3.7.2"
  }
 },
 "nbformat": 4,
 "nbformat_minor": 5
}
